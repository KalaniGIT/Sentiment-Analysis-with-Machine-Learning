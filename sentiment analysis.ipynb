{
 "cells": [
  {
   "cell_type": "code",
   "execution_count": 1,
   "id": "c175c2ad",
   "metadata": {},
   "outputs": [
    {
     "name": "stderr",
     "output_type": "stream",
     "text": [
      "[nltk_data] Downloading package punkt to C:\\Users\\Madhu\n",
      "[nltk_data]     Com\\AppData\\Roaming\\nltk_data...\n",
      "[nltk_data]   Package punkt is already up-to-date!\n",
      "[nltk_data] Downloading package wordnet to C:\\Users\\Madhu\n",
      "[nltk_data]     Com\\AppData\\Roaming\\nltk_data...\n",
      "[nltk_data]   Package wordnet is already up-to-date!\n",
      "[nltk_data] Downloading package stopwords to C:\\Users\\Madhu\n",
      "[nltk_data]     Com\\AppData\\Roaming\\nltk_data...\n",
      "[nltk_data]   Package stopwords is already up-to-date!\n"
     ]
    }
   ],
   "source": [
    "import numpy as np # linear algebra\n",
    "import pandas as pd # data processing, CSV file I/O (e.g. pd.read_csv)\n",
    "import re #regex applies a regular expression to a string and returns the matching substrings. \n",
    "import matplotlib.pyplot as plt\n",
    "import seaborn as sns \n",
    "import nltk \n",
    "from sklearn import feature_extraction, model_selection, naive_bayes, pipeline, manifold, preprocessing\n",
    "import nltk.corpus\n",
    "from nltk.corpus import stopwords\n",
    "from nltk.tokenize import BlanklineTokenizer\n",
    "from nltk.tokenize import TweetTokenizer\n",
    "nltk.download('punkt')\n",
    "nltk.download('wordnet')\n",
    "nltk.download('stopwords')\n",
    "from nltk.stem import WordNetLemmatizer\n",
    "import string\n",
    "from nltk.util import ngrams\n",
    "from sklearn.feature_extraction.text import CountVectorizer\n",
    "from collections import defaultdict\n",
    "from collections import  Counter\n",
    "plt.style.use('ggplot')\n",
    "stop=set(stopwords.words('english'))\n",
    "import re\n",
    "\n",
    "from nltk.tokenize import word_tokenize\n",
    "\n",
    "\n",
    "from sklearn.model_selection import train_test_split\n",
    "\n",
    "from nltk.stem import PorterStemmer \n",
    "from nltk.tokenize import word_tokenize\n",
    "\n",
    "from sklearn.model_selection import train_test_split\n",
    "from sklearn.feature_extraction.text import TfidfVectorizer\n",
    "import pickle\n",
    "from multiprocessing import Pool\n"
   ]
  },
  {
   "cell_type": "code",
   "execution_count": 2,
   "id": "2b3562a5",
   "metadata": {},
   "outputs": [],
   "source": [
    "import pandas as pd\n",
    "import numpy as np\n",
    "from nltk.tokenize import word_tokenize\n",
    "from nltk import pos_tag\n",
    "from nltk.corpus import stopwords\n",
    "from nltk.stem import WordNetLemmatizer\n",
    "from sklearn.preprocessing import LabelEncoder\n",
    "from collections import defaultdict\n",
    "from nltk.corpus import wordnet as wn\n",
    "from sklearn.feature_extraction.text import TfidfVectorizer\n",
    "from sklearn import model_selection, naive_bayes, svm\n",
    "from sklearn.metrics import confusion_matrix,accuracy_score\n",
    "from sklearn.feature_extraction.text import CountVectorizer\n",
    "from sklearn.model_selection import train_test_split, cross_val_score\n",
    "from sklearn.metrics import classification_report"
   ]
  },
  {
   "cell_type": "code",
   "execution_count": 3,
   "id": "fc9d3ad2",
   "metadata": {},
   "outputs": [],
   "source": [
    "df=pd.read_csv(\"D:\\\\RESEARCH\\\\Booking.com  - Kandy-with label.csv\")"
   ]
  },
  {
   "cell_type": "code",
   "execution_count": 4,
   "id": "74e2aa33",
   "metadata": {},
   "outputs": [
    {
     "data": {
      "text/html": [
       "<div>\n",
       "<style scoped>\n",
       "    .dataframe tbody tr th:only-of-type {\n",
       "        vertical-align: middle;\n",
       "    }\n",
       "\n",
       "    .dataframe tbody tr th {\n",
       "        vertical-align: top;\n",
       "    }\n",
       "\n",
       "    .dataframe thead th {\n",
       "        text-align: right;\n",
       "    }\n",
       "</style>\n",
       "<table border=\"1\" class=\"dataframe\">\n",
       "  <thead>\n",
       "    <tr style=\"text-align: right;\">\n",
       "      <th></th>\n",
       "      <th>hotel_name</th>\n",
       "      <th>overall_review_score</th>\n",
       "      <th>overall_review_text</th>\n",
       "      <th>staff_review</th>\n",
       "      <th>facility_review</th>\n",
       "      <th>cleanliness_review</th>\n",
       "      <th>comfort_review</th>\n",
       "      <th>value_for_money_review</th>\n",
       "      <th>location_review</th>\n",
       "      <th>free_wifi_review</th>\n",
       "      <th>...</th>\n",
       "      <th>travel_type</th>\n",
       "      <th>timeline</th>\n",
       "      <th>room_info</th>\n",
       "      <th>positive_comment</th>\n",
       "      <th>negative_comment</th>\n",
       "      <th>review_helpfulness</th>\n",
       "      <th>Unnamed: 21</th>\n",
       "      <th>Label</th>\n",
       "      <th>Unnamed: 23</th>\n",
       "      <th>Unnamed: 24</th>\n",
       "    </tr>\n",
       "  </thead>\n",
       "  <tbody>\n",
       "    <tr>\n",
       "      <th>0</th>\n",
       "      <td>Hotel\\nKandy City Hotel by Earl's</td>\n",
       "      <td>7.8</td>\n",
       "      <td>Good</td>\n",
       "      <td>8.0</td>\n",
       "      <td>7.9</td>\n",
       "      <td>8.9</td>\n",
       "      <td>7.6</td>\n",
       "      <td>7.8</td>\n",
       "      <td>7.6</td>\n",
       "      <td>7.0</td>\n",
       "      <td>...</td>\n",
       "      <td>Group</td>\n",
       "      <td>1 night · \\n\\nSeptember 2019</td>\n",
       "      <td>Superior Triple Room</td>\n",
       "      <td>The rooms were beyond what we expected. Clean ...</td>\n",
       "      <td>NaN</td>\n",
       "      <td>NaN</td>\n",
       "      <td>NaN</td>\n",
       "      <td>positive</td>\n",
       "      <td>NaN</td>\n",
       "      <td>NaN</td>\n",
       "    </tr>\n",
       "    <tr>\n",
       "      <th>1</th>\n",
       "      <td>Hotel\\nKandy City Hotel by Earl's</td>\n",
       "      <td>7.8</td>\n",
       "      <td>Good</td>\n",
       "      <td>8.0</td>\n",
       "      <td>7.9</td>\n",
       "      <td>8.9</td>\n",
       "      <td>7.6</td>\n",
       "      <td>7.8</td>\n",
       "      <td>7.6</td>\n",
       "      <td>7.0</td>\n",
       "      <td>...</td>\n",
       "      <td>Group</td>\n",
       "      <td>2 nights · \\n\\nMarch 2021</td>\n",
       "      <td>Superior Double or Twin Room</td>\n",
       "      <td>My stay was extremely comfortable. A beautiful...</td>\n",
       "      <td>NaN</td>\n",
       "      <td>NaN</td>\n",
       "      <td>NaN</td>\n",
       "      <td>positive</td>\n",
       "      <td>NaN</td>\n",
       "      <td>NaN</td>\n",
       "    </tr>\n",
       "  </tbody>\n",
       "</table>\n",
       "<p>2 rows × 25 columns</p>\n",
       "</div>"
      ],
      "text/plain": [
       "                          hotel_name overall_review_score overall_review_text  \\\n",
       "0  Hotel\\nKandy City Hotel by Earl's                  7.8                Good   \n",
       "1  Hotel\\nKandy City Hotel by Earl's                  7.8                Good   \n",
       "\n",
       "   staff_review  facility_review  cleanliness_review  comfort_review  \\\n",
       "0           8.0              7.9                 8.9             7.6   \n",
       "1           8.0              7.9                 8.9             7.6   \n",
       "\n",
       "   value_for_money_review  location_review  free_wifi_review  ... travel_type  \\\n",
       "0                     7.8              7.6               7.0  ...       Group   \n",
       "1                     7.8              7.6               7.0  ...       Group   \n",
       "\n",
       "                       timeline                     room_info  \\\n",
       "0  1 night · \\n\\nSeptember 2019          Superior Triple Room   \n",
       "1     2 nights · \\n\\nMarch 2021  Superior Double or Twin Room   \n",
       "\n",
       "                                    positive_comment  negative_comment  \\\n",
       "0  The rooms were beyond what we expected. Clean ...               NaN   \n",
       "1  My stay was extremely comfortable. A beautiful...               NaN   \n",
       "\n",
       "  review_helpfulness Unnamed: 21     Label Unnamed: 23 Unnamed: 24  \n",
       "0                NaN         NaN  positive         NaN         NaN  \n",
       "1                NaN         NaN  positive         NaN         NaN  \n",
       "\n",
       "[2 rows x 25 columns]"
      ]
     },
     "execution_count": 4,
     "metadata": {},
     "output_type": "execute_result"
    }
   ],
   "source": [
    "df.head(2)"
   ]
  },
  {
   "cell_type": "code",
   "execution_count": 5,
   "id": "7a6c6d10",
   "metadata": {},
   "outputs": [
    {
     "data": {
      "text/plain": [
       "Index(['hotel_name', 'overall_review_score', 'overall_review_text',\n",
       "       'staff_review', 'facility_review', 'cleanliness_review',\n",
       "       'comfort_review', 'value_for_money_review', 'location_review',\n",
       "       'free_wifi_review', 'reviewer_name', 'reviewer_country', 'review_title',\n",
       "       'reviewed_on', 'personal_review_score', 'travel_type', 'timeline',\n",
       "       'room_info', 'positive_comment', 'negative_comment',\n",
       "       'review_helpfulness', 'Unnamed: 21', 'Label', 'Unnamed: 23',\n",
       "       'Unnamed: 24'],\n",
       "      dtype='object')"
      ]
     },
     "execution_count": 5,
     "metadata": {},
     "output_type": "execute_result"
    }
   ],
   "source": [
    "df.columns"
   ]
  },
  {
   "cell_type": "code",
   "execution_count": 6,
   "id": "097937a7",
   "metadata": {},
   "outputs": [],
   "source": [
    "df.drop(df[['Unnamed: 21','Unnamed: 23','Unnamed: 24']],axis='columns',inplace=True)"
   ]
  },
  {
   "cell_type": "code",
   "execution_count": 7,
   "id": "30c745de",
   "metadata": {},
   "outputs": [
    {
     "data": {
      "text/html": [
       "<div>\n",
       "<style scoped>\n",
       "    .dataframe tbody tr th:only-of-type {\n",
       "        vertical-align: middle;\n",
       "    }\n",
       "\n",
       "    .dataframe tbody tr th {\n",
       "        vertical-align: top;\n",
       "    }\n",
       "\n",
       "    .dataframe thead th {\n",
       "        text-align: right;\n",
       "    }\n",
       "</style>\n",
       "<table border=\"1\" class=\"dataframe\">\n",
       "  <thead>\n",
       "    <tr style=\"text-align: right;\">\n",
       "      <th></th>\n",
       "      <th>hotel_name</th>\n",
       "      <th>overall_review_score</th>\n",
       "      <th>overall_review_text</th>\n",
       "      <th>staff_review</th>\n",
       "      <th>facility_review</th>\n",
       "      <th>cleanliness_review</th>\n",
       "      <th>comfort_review</th>\n",
       "      <th>value_for_money_review</th>\n",
       "      <th>location_review</th>\n",
       "      <th>free_wifi_review</th>\n",
       "      <th>...</th>\n",
       "      <th>review_title</th>\n",
       "      <th>reviewed_on</th>\n",
       "      <th>personal_review_score</th>\n",
       "      <th>travel_type</th>\n",
       "      <th>timeline</th>\n",
       "      <th>room_info</th>\n",
       "      <th>positive_comment</th>\n",
       "      <th>negative_comment</th>\n",
       "      <th>review_helpfulness</th>\n",
       "      <th>Label</th>\n",
       "    </tr>\n",
       "  </thead>\n",
       "  <tbody>\n",
       "    <tr>\n",
       "      <th>0</th>\n",
       "      <td>Hotel\\nKandy City Hotel by Earl's</td>\n",
       "      <td>7.8</td>\n",
       "      <td>Good</td>\n",
       "      <td>8.0</td>\n",
       "      <td>7.9</td>\n",
       "      <td>8.9</td>\n",
       "      <td>7.6</td>\n",
       "      <td>7.8</td>\n",
       "      <td>7.6</td>\n",
       "      <td>7.0</td>\n",
       "      <td>...</td>\n",
       "      <td>Absolutely amazing. Will come again</td>\n",
       "      <td>Reviewers' choice</td>\n",
       "      <td>10.0</td>\n",
       "      <td>Group</td>\n",
       "      <td>1 night · \\n\\nSeptember 2019</td>\n",
       "      <td>Superior Triple Room</td>\n",
       "      <td>The rooms were beyond what we expected. Clean ...</td>\n",
       "      <td>NaN</td>\n",
       "      <td>NaN</td>\n",
       "      <td>positive</td>\n",
       "    </tr>\n",
       "    <tr>\n",
       "      <th>1</th>\n",
       "      <td>Hotel\\nKandy City Hotel by Earl's</td>\n",
       "      <td>7.8</td>\n",
       "      <td>Good</td>\n",
       "      <td>8.0</td>\n",
       "      <td>7.9</td>\n",
       "      <td>8.9</td>\n",
       "      <td>7.6</td>\n",
       "      <td>7.8</td>\n",
       "      <td>7.6</td>\n",
       "      <td>7.0</td>\n",
       "      <td>...</td>\n",
       "      <td>Excellent stay!</td>\n",
       "      <td>Reviewed: 14 March 2021</td>\n",
       "      <td>9.0</td>\n",
       "      <td>Group</td>\n",
       "      <td>2 nights · \\n\\nMarch 2021</td>\n",
       "      <td>Superior Double or Twin Room</td>\n",
       "      <td>My stay was extremely comfortable. A beautiful...</td>\n",
       "      <td>NaN</td>\n",
       "      <td>NaN</td>\n",
       "      <td>positive</td>\n",
       "    </tr>\n",
       "  </tbody>\n",
       "</table>\n",
       "<p>2 rows × 22 columns</p>\n",
       "</div>"
      ],
      "text/plain": [
       "                          hotel_name overall_review_score overall_review_text  \\\n",
       "0  Hotel\\nKandy City Hotel by Earl's                  7.8                Good   \n",
       "1  Hotel\\nKandy City Hotel by Earl's                  7.8                Good   \n",
       "\n",
       "   staff_review  facility_review  cleanliness_review  comfort_review  \\\n",
       "0           8.0              7.9                 8.9             7.6   \n",
       "1           8.0              7.9                 8.9             7.6   \n",
       "\n",
       "   value_for_money_review  location_review  free_wifi_review  ...  \\\n",
       "0                     7.8              7.6               7.0  ...   \n",
       "1                     7.8              7.6               7.0  ...   \n",
       "\n",
       "                          review_title              reviewed_on  \\\n",
       "0  Absolutely amazing. Will come again        Reviewers' choice   \n",
       "1                      Excellent stay!  Reviewed: 14 March 2021   \n",
       "\n",
       "  personal_review_score travel_type                      timeline  \\\n",
       "0                  10.0       Group  1 night · \\n\\nSeptember 2019   \n",
       "1                   9.0       Group     2 nights · \\n\\nMarch 2021   \n",
       "\n",
       "                      room_info  \\\n",
       "0          Superior Triple Room   \n",
       "1  Superior Double or Twin Room   \n",
       "\n",
       "                                    positive_comment negative_comment  \\\n",
       "0  The rooms were beyond what we expected. Clean ...              NaN   \n",
       "1  My stay was extremely comfortable. A beautiful...              NaN   \n",
       "\n",
       "  review_helpfulness     Label  \n",
       "0                NaN  positive  \n",
       "1                NaN  positive  \n",
       "\n",
       "[2 rows x 22 columns]"
      ]
     },
     "execution_count": 7,
     "metadata": {},
     "output_type": "execute_result"
    }
   ],
   "source": [
    "df.head(2)"
   ]
  },
  {
   "cell_type": "code",
   "execution_count": 8,
   "id": "becb32dc",
   "metadata": {},
   "outputs": [
    {
     "name": "stdout",
     "output_type": "stream",
     "text": [
      "(4284, 22)\n",
      "(4284, 22)\n"
     ]
    }
   ],
   "source": [
    "print(df.shape)\n",
    "df.dropna(how='all',inplace=True)\n",
    "print(df.shape)"
   ]
  },
  {
   "cell_type": "code",
   "execution_count": 9,
   "id": "4a96f9b8",
   "metadata": {
    "scrolled": true
   },
   "outputs": [
    {
     "data": {
      "text/plain": [
       "positive    2698\n",
       "neutral     1239\n",
       "negative     290\n",
       "Name: Label, dtype: int64"
      ]
     },
     "execution_count": 9,
     "metadata": {},
     "output_type": "execute_result"
    }
   ],
   "source": [
    "df.Label.value_counts()"
   ]
  },
  {
   "cell_type": "code",
   "execution_count": 10,
   "id": "144d22be",
   "metadata": {},
   "outputs": [
    {
     "data": {
      "text/plain": [
       "hotel_name                   0\n",
       "overall_review_score         4\n",
       "overall_review_text         61\n",
       "staff_review                16\n",
       "facility_review             16\n",
       "cleanliness_review          16\n",
       "comfort_review              16\n",
       "value_for_money_review      16\n",
       "location_review             16\n",
       "free_wifi_review            63\n",
       "reviewer_name               16\n",
       "reviewer_country            18\n",
       "review_title                23\n",
       "reviewed_on                 25\n",
       "personal_review_score       25\n",
       "travel_type                 19\n",
       "timeline                    19\n",
       "room_info                  288\n",
       "positive_comment            40\n",
       "negative_comment          1642\n",
       "review_helpfulness        4095\n",
       "Label                       57\n",
       "dtype: int64"
      ]
     },
     "execution_count": 10,
     "metadata": {},
     "output_type": "execute_result"
    }
   ],
   "source": [
    "df.isnull().sum()"
   ]
  },
  {
   "cell_type": "code",
   "execution_count": 11,
   "id": "443968ca",
   "metadata": {},
   "outputs": [
    {
     "data": {
      "text/plain": [
       "(4227, 22)"
      ]
     },
     "execution_count": 11,
     "metadata": {},
     "output_type": "execute_result"
    }
   ],
   "source": [
    "df = df[pd.notnull(df['Label'])]\n",
    "df.shape"
   ]
  },
  {
   "cell_type": "code",
   "execution_count": 12,
   "id": "4b08d6b8",
   "metadata": {},
   "outputs": [],
   "source": [
    "df[\"positive_comment\"].fillna(\"was\", inplace = True)\n",
    "df[\"negative_comment\"].fillna(\"was\",inplace=True)"
   ]
  },
  {
   "cell_type": "code",
   "execution_count": 13,
   "id": "84a708df",
   "metadata": {},
   "outputs": [
    {
     "data": {
      "text/plain": [
       "0       The rooms were beyond what we expected. Clean ...\n",
       "1       My stay was extremely comfortable. A beautiful...\n",
       "2       Definitely worth for the price you pay. Very c...\n",
       "3       Meals and location very goodBetter if you’ll c...\n",
       "4       Worth for the money and their staff are very h...\n",
       "                              ...                        \n",
       "4279    The place is like a hotel. The owner family is...\n",
       "4280    Amazing stay with such a happy welcoming famil...\n",
       "4281    The host was amazing, and I loved the rooftop ...\n",
       "4282    The owner and his family are very nice people,...\n",
       "4283    The hotel is clean and tidy  and new. Mr sulta...\n",
       "Name: review, Length: 4227, dtype: object"
      ]
     },
     "execution_count": 13,
     "metadata": {},
     "output_type": "execute_result"
    }
   ],
   "source": [
    "df['review']=df['positive_comment']+df['negative_comment']\n",
    "df['review']\n"
   ]
  },
  {
   "cell_type": "code",
   "execution_count": 14,
   "id": "a401e507",
   "metadata": {},
   "outputs": [
    {
     "data": {
      "text/html": [
       "<div>\n",
       "<style scoped>\n",
       "    .dataframe tbody tr th:only-of-type {\n",
       "        vertical-align: middle;\n",
       "    }\n",
       "\n",
       "    .dataframe tbody tr th {\n",
       "        vertical-align: top;\n",
       "    }\n",
       "\n",
       "    .dataframe thead th {\n",
       "        text-align: right;\n",
       "    }\n",
       "</style>\n",
       "<table border=\"1\" class=\"dataframe\">\n",
       "  <thead>\n",
       "    <tr style=\"text-align: right;\">\n",
       "      <th></th>\n",
       "      <th>review</th>\n",
       "      <th>Label</th>\n",
       "    </tr>\n",
       "  </thead>\n",
       "  <tbody>\n",
       "    <tr>\n",
       "      <th>0</th>\n",
       "      <td>The rooms were beyond what we expected. Clean ...</td>\n",
       "      <td>positive</td>\n",
       "    </tr>\n",
       "    <tr>\n",
       "      <th>1</th>\n",
       "      <td>My stay was extremely comfortable. A beautiful...</td>\n",
       "      <td>positive</td>\n",
       "    </tr>\n",
       "    <tr>\n",
       "      <th>2</th>\n",
       "      <td>Definitely worth for the price you pay. Very c...</td>\n",
       "      <td>neutral</td>\n",
       "    </tr>\n",
       "    <tr>\n",
       "      <th>3</th>\n",
       "      <td>Meals and location very goodBetter if you’ll c...</td>\n",
       "      <td>positive</td>\n",
       "    </tr>\n",
       "    <tr>\n",
       "      <th>4</th>\n",
       "      <td>Worth for the money and their staff are very h...</td>\n",
       "      <td>positive</td>\n",
       "    </tr>\n",
       "  </tbody>\n",
       "</table>\n",
       "</div>"
      ],
      "text/plain": [
       "                                              review     Label\n",
       "0  The rooms were beyond what we expected. Clean ...  positive\n",
       "1  My stay was extremely comfortable. A beautiful...  positive\n",
       "2  Definitely worth for the price you pay. Very c...   neutral\n",
       "3  Meals and location very goodBetter if you’ll c...  positive\n",
       "4  Worth for the money and their staff are very h...  positive"
      ]
     },
     "execution_count": 14,
     "metadata": {},
     "output_type": "execute_result"
    }
   ],
   "source": [
    "df2=df[['review','Label']]\n",
    "df2.head()"
   ]
  },
  {
   "cell_type": "code",
   "execution_count": 15,
   "id": "23b77143",
   "metadata": {},
   "outputs": [
    {
     "name": "stderr",
     "output_type": "stream",
     "text": [
      "<ipython-input-15-6702163b9bcb>:6: SettingWithCopyWarning: \n",
      "A value is trying to be set on a copy of a slice from a DataFrame.\n",
      "Try using .loc[row_indexer,col_indexer] = value instead\n",
      "\n",
      "See the caveats in the documentation: https://pandas.pydata.org/pandas-docs/stable/user_guide/indexing.html#returning-a-view-versus-a-copy\n",
      "  df2['CleanReview']=df2['review'].apply(clean_url)\n"
     ]
    },
    {
     "data": {
      "text/html": [
       "<div>\n",
       "<style scoped>\n",
       "    .dataframe tbody tr th:only-of-type {\n",
       "        vertical-align: middle;\n",
       "    }\n",
       "\n",
       "    .dataframe tbody tr th {\n",
       "        vertical-align: top;\n",
       "    }\n",
       "\n",
       "    .dataframe thead th {\n",
       "        text-align: right;\n",
       "    }\n",
       "</style>\n",
       "<table border=\"1\" class=\"dataframe\">\n",
       "  <thead>\n",
       "    <tr style=\"text-align: right;\">\n",
       "      <th></th>\n",
       "      <th>review</th>\n",
       "      <th>Label</th>\n",
       "      <th>CleanReview</th>\n",
       "    </tr>\n",
       "  </thead>\n",
       "  <tbody>\n",
       "    <tr>\n",
       "      <th>0</th>\n",
       "      <td>The rooms were beyond what we expected. Clean ...</td>\n",
       "      <td>positive</td>\n",
       "      <td>The rooms were beyond what we expected. Clean ...</td>\n",
       "    </tr>\n",
       "    <tr>\n",
       "      <th>1</th>\n",
       "      <td>My stay was extremely comfortable. A beautiful...</td>\n",
       "      <td>positive</td>\n",
       "      <td>My stay was extremely comfortable. A beautiful...</td>\n",
       "    </tr>\n",
       "    <tr>\n",
       "      <th>2</th>\n",
       "      <td>Definitely worth for the price you pay. Very c...</td>\n",
       "      <td>neutral</td>\n",
       "      <td>Definitely worth for the price you pay. Very c...</td>\n",
       "    </tr>\n",
       "    <tr>\n",
       "      <th>3</th>\n",
       "      <td>Meals and location very goodBetter if you’ll c...</td>\n",
       "      <td>positive</td>\n",
       "      <td>Meals and location very goodBetter if you’ll c...</td>\n",
       "    </tr>\n",
       "    <tr>\n",
       "      <th>4</th>\n",
       "      <td>Worth for the money and their staff are very h...</td>\n",
       "      <td>positive</td>\n",
       "      <td>Worth for the money and their staff are very h...</td>\n",
       "    </tr>\n",
       "    <tr>\n",
       "      <th>...</th>\n",
       "      <td>...</td>\n",
       "      <td>...</td>\n",
       "      <td>...</td>\n",
       "    </tr>\n",
       "    <tr>\n",
       "      <th>4279</th>\n",
       "      <td>The place is like a hotel. The owner family is...</td>\n",
       "      <td>positive</td>\n",
       "      <td>The place is like a hotel. The owner family is...</td>\n",
       "    </tr>\n",
       "    <tr>\n",
       "      <th>4280</th>\n",
       "      <td>Amazing stay with such a happy welcoming famil...</td>\n",
       "      <td>positive</td>\n",
       "      <td>Amazing stay with such a happy welcoming famil...</td>\n",
       "    </tr>\n",
       "    <tr>\n",
       "      <th>4281</th>\n",
       "      <td>The host was amazing, and I loved the rooftop ...</td>\n",
       "      <td>positive</td>\n",
       "      <td>The host was amazing, and I loved the rooftop ...</td>\n",
       "    </tr>\n",
       "    <tr>\n",
       "      <th>4282</th>\n",
       "      <td>The owner and his family are very nice people,...</td>\n",
       "      <td>positive</td>\n",
       "      <td>The owner and his family are very nice people,...</td>\n",
       "    </tr>\n",
       "    <tr>\n",
       "      <th>4283</th>\n",
       "      <td>The hotel is clean and tidy  and new. Mr sulta...</td>\n",
       "      <td>positive</td>\n",
       "      <td>The hotel is clean and tidy  and new. Mr sulta...</td>\n",
       "    </tr>\n",
       "  </tbody>\n",
       "</table>\n",
       "<p>4227 rows × 3 columns</p>\n",
       "</div>"
      ],
      "text/plain": [
       "                                                 review     Label  \\\n",
       "0     The rooms were beyond what we expected. Clean ...  positive   \n",
       "1     My stay was extremely comfortable. A beautiful...  positive   \n",
       "2     Definitely worth for the price you pay. Very c...   neutral   \n",
       "3     Meals and location very goodBetter if you’ll c...  positive   \n",
       "4     Worth for the money and their staff are very h...  positive   \n",
       "...                                                 ...       ...   \n",
       "4279  The place is like a hotel. The owner family is...  positive   \n",
       "4280  Amazing stay with such a happy welcoming famil...  positive   \n",
       "4281  The host was amazing, and I loved the rooftop ...  positive   \n",
       "4282  The owner and his family are very nice people,...  positive   \n",
       "4283  The hotel is clean and tidy  and new. Mr sulta...  positive   \n",
       "\n",
       "                                            CleanReview  \n",
       "0     The rooms were beyond what we expected. Clean ...  \n",
       "1     My stay was extremely comfortable. A beautiful...  \n",
       "2     Definitely worth for the price you pay. Very c...  \n",
       "3     Meals and location very goodBetter if you’ll c...  \n",
       "4     Worth for the money and their staff are very h...  \n",
       "...                                                 ...  \n",
       "4279  The place is like a hotel. The owner family is...  \n",
       "4280  Amazing stay with such a happy welcoming famil...  \n",
       "4281  The host was amazing, and I loved the rooftop ...  \n",
       "4282  The owner and his family are very nice people,...  \n",
       "4283  The hotel is clean and tidy  and new. Mr sulta...  \n",
       "\n",
       "[4227 rows x 3 columns]"
      ]
     },
     "execution_count": 15,
     "metadata": {},
     "output_type": "execute_result"
    }
   ],
   "source": [
    "import re\n",
    "\n",
    "def clean_url(review_text):\n",
    "    return re.sub(r'http\\S+','',review_text)\n",
    "\n",
    "df2['CleanReview']=df2['review'].apply(clean_url)\n",
    "df2"
   ]
  },
  {
   "cell_type": "code",
   "execution_count": 16,
   "id": "0d73e3e3",
   "metadata": {},
   "outputs": [
    {
     "name": "stderr",
     "output_type": "stream",
     "text": [
      "<ipython-input-16-dbc382f80539>:4: SettingWithCopyWarning: \n",
      "A value is trying to be set on a copy of a slice from a DataFrame.\n",
      "Try using .loc[row_indexer,col_indexer] = value instead\n",
      "\n",
      "See the caveats in the documentation: https://pandas.pydata.org/pandas-docs/stable/user_guide/indexing.html#returning-a-view-versus-a-copy\n",
      "  df2['CleanReview']=df2['CleanReview'].apply(clean_non_alphanumeric)\n"
     ]
    },
    {
     "data": {
      "text/html": [
       "<div>\n",
       "<style scoped>\n",
       "    .dataframe tbody tr th:only-of-type {\n",
       "        vertical-align: middle;\n",
       "    }\n",
       "\n",
       "    .dataframe tbody tr th {\n",
       "        vertical-align: top;\n",
       "    }\n",
       "\n",
       "    .dataframe thead th {\n",
       "        text-align: right;\n",
       "    }\n",
       "</style>\n",
       "<table border=\"1\" class=\"dataframe\">\n",
       "  <thead>\n",
       "    <tr style=\"text-align: right;\">\n",
       "      <th></th>\n",
       "      <th>review</th>\n",
       "      <th>Label</th>\n",
       "      <th>CleanReview</th>\n",
       "    </tr>\n",
       "  </thead>\n",
       "  <tbody>\n",
       "    <tr>\n",
       "      <th>0</th>\n",
       "      <td>The rooms were beyond what we expected. Clean ...</td>\n",
       "      <td>positive</td>\n",
       "      <td>The rooms were beyond what we expected  Clean ...</td>\n",
       "    </tr>\n",
       "    <tr>\n",
       "      <th>1</th>\n",
       "      <td>My stay was extremely comfortable. A beautiful...</td>\n",
       "      <td>positive</td>\n",
       "      <td>My stay was extremely comfortable  A beautiful...</td>\n",
       "    </tr>\n",
       "    <tr>\n",
       "      <th>2</th>\n",
       "      <td>Definitely worth for the price you pay. Very c...</td>\n",
       "      <td>neutral</td>\n",
       "      <td>Definitely worth for the price you pay  Very c...</td>\n",
       "    </tr>\n",
       "    <tr>\n",
       "      <th>3</th>\n",
       "      <td>Meals and location very goodBetter if you’ll c...</td>\n",
       "      <td>positive</td>\n",
       "      <td>Meals and location very goodBetter if you ll c...</td>\n",
       "    </tr>\n",
       "    <tr>\n",
       "      <th>4</th>\n",
       "      <td>Worth for the money and their staff are very h...</td>\n",
       "      <td>positive</td>\n",
       "      <td>Worth for the money and their staff are very h...</td>\n",
       "    </tr>\n",
       "    <tr>\n",
       "      <th>...</th>\n",
       "      <td>...</td>\n",
       "      <td>...</td>\n",
       "      <td>...</td>\n",
       "    </tr>\n",
       "    <tr>\n",
       "      <th>4279</th>\n",
       "      <td>The place is like a hotel. The owner family is...</td>\n",
       "      <td>positive</td>\n",
       "      <td>The place is like a hotel  The owner family is...</td>\n",
       "    </tr>\n",
       "    <tr>\n",
       "      <th>4280</th>\n",
       "      <td>Amazing stay with such a happy welcoming famil...</td>\n",
       "      <td>positive</td>\n",
       "      <td>Amazing stay with such a happy welcoming famil...</td>\n",
       "    </tr>\n",
       "    <tr>\n",
       "      <th>4281</th>\n",
       "      <td>The host was amazing, and I loved the rooftop ...</td>\n",
       "      <td>positive</td>\n",
       "      <td>The host was amazing  and I loved the rooftop ...</td>\n",
       "    </tr>\n",
       "    <tr>\n",
       "      <th>4282</th>\n",
       "      <td>The owner and his family are very nice people,...</td>\n",
       "      <td>positive</td>\n",
       "      <td>The owner and his family are very nice people ...</td>\n",
       "    </tr>\n",
       "    <tr>\n",
       "      <th>4283</th>\n",
       "      <td>The hotel is clean and tidy  and new. Mr sulta...</td>\n",
       "      <td>positive</td>\n",
       "      <td>The hotel is clean and tidy  and new  Mr sulta...</td>\n",
       "    </tr>\n",
       "  </tbody>\n",
       "</table>\n",
       "<p>4227 rows × 3 columns</p>\n",
       "</div>"
      ],
      "text/plain": [
       "                                                 review     Label  \\\n",
       "0     The rooms were beyond what we expected. Clean ...  positive   \n",
       "1     My stay was extremely comfortable. A beautiful...  positive   \n",
       "2     Definitely worth for the price you pay. Very c...   neutral   \n",
       "3     Meals and location very goodBetter if you’ll c...  positive   \n",
       "4     Worth for the money and their staff are very h...  positive   \n",
       "...                                                 ...       ...   \n",
       "4279  The place is like a hotel. The owner family is...  positive   \n",
       "4280  Amazing stay with such a happy welcoming famil...  positive   \n",
       "4281  The host was amazing, and I loved the rooftop ...  positive   \n",
       "4282  The owner and his family are very nice people,...  positive   \n",
       "4283  The hotel is clean and tidy  and new. Mr sulta...  positive   \n",
       "\n",
       "                                            CleanReview  \n",
       "0     The rooms were beyond what we expected  Clean ...  \n",
       "1     My stay was extremely comfortable  A beautiful...  \n",
       "2     Definitely worth for the price you pay  Very c...  \n",
       "3     Meals and location very goodBetter if you ll c...  \n",
       "4     Worth for the money and their staff are very h...  \n",
       "...                                                 ...  \n",
       "4279  The place is like a hotel  The owner family is...  \n",
       "4280  Amazing stay with such a happy welcoming famil...  \n",
       "4281  The host was amazing  and I loved the rooftop ...  \n",
       "4282  The owner and his family are very nice people ...  \n",
       "4283  The hotel is clean and tidy  and new  Mr sulta...  \n",
       "\n",
       "[4227 rows x 3 columns]"
      ]
     },
     "execution_count": 16,
     "metadata": {},
     "output_type": "execute_result"
    }
   ],
   "source": [
    "def clean_non_alphanumeric(review_text):\n",
    "    return re.sub('[^a-zA-Z]',' ',review_text)\n",
    "\n",
    "df2['CleanReview']=df2['CleanReview'].apply(clean_non_alphanumeric)\n",
    "df2"
   ]
  },
  {
   "cell_type": "code",
   "execution_count": 17,
   "id": "04f3a93b",
   "metadata": {},
   "outputs": [
    {
     "name": "stderr",
     "output_type": "stream",
     "text": [
      "<ipython-input-17-0024a900a5b5>:3: SettingWithCopyWarning: \n",
      "A value is trying to be set on a copy of a slice from a DataFrame.\n",
      "Try using .loc[row_indexer,col_indexer] = value instead\n",
      "\n",
      "See the caveats in the documentation: https://pandas.pydata.org/pandas-docs/stable/user_guide/indexing.html#returning-a-view-versus-a-copy\n",
      "  df2['CleanReview']=df2['CleanReview'].apply(clean_lowercase)\n"
     ]
    },
    {
     "data": {
      "text/html": [
       "<div>\n",
       "<style scoped>\n",
       "    .dataframe tbody tr th:only-of-type {\n",
       "        vertical-align: middle;\n",
       "    }\n",
       "\n",
       "    .dataframe tbody tr th {\n",
       "        vertical-align: top;\n",
       "    }\n",
       "\n",
       "    .dataframe thead th {\n",
       "        text-align: right;\n",
       "    }\n",
       "</style>\n",
       "<table border=\"1\" class=\"dataframe\">\n",
       "  <thead>\n",
       "    <tr style=\"text-align: right;\">\n",
       "      <th></th>\n",
       "      <th>review</th>\n",
       "      <th>Label</th>\n",
       "      <th>CleanReview</th>\n",
       "    </tr>\n",
       "  </thead>\n",
       "  <tbody>\n",
       "    <tr>\n",
       "      <th>0</th>\n",
       "      <td>The rooms were beyond what we expected. Clean ...</td>\n",
       "      <td>positive</td>\n",
       "      <td>the rooms were beyond what we expected  clean ...</td>\n",
       "    </tr>\n",
       "    <tr>\n",
       "      <th>1</th>\n",
       "      <td>My stay was extremely comfortable. A beautiful...</td>\n",
       "      <td>positive</td>\n",
       "      <td>my stay was extremely comfortable  a beautiful...</td>\n",
       "    </tr>\n",
       "    <tr>\n",
       "      <th>2</th>\n",
       "      <td>Definitely worth for the price you pay. Very c...</td>\n",
       "      <td>neutral</td>\n",
       "      <td>definitely worth for the price you pay  very c...</td>\n",
       "    </tr>\n",
       "    <tr>\n",
       "      <th>3</th>\n",
       "      <td>Meals and location very goodBetter if you’ll c...</td>\n",
       "      <td>positive</td>\n",
       "      <td>meals and location very goodbetter if you ll c...</td>\n",
       "    </tr>\n",
       "    <tr>\n",
       "      <th>4</th>\n",
       "      <td>Worth for the money and their staff are very h...</td>\n",
       "      <td>positive</td>\n",
       "      <td>worth for the money and their staff are very h...</td>\n",
       "    </tr>\n",
       "    <tr>\n",
       "      <th>...</th>\n",
       "      <td>...</td>\n",
       "      <td>...</td>\n",
       "      <td>...</td>\n",
       "    </tr>\n",
       "    <tr>\n",
       "      <th>4279</th>\n",
       "      <td>The place is like a hotel. The owner family is...</td>\n",
       "      <td>positive</td>\n",
       "      <td>the place is like a hotel  the owner family is...</td>\n",
       "    </tr>\n",
       "    <tr>\n",
       "      <th>4280</th>\n",
       "      <td>Amazing stay with such a happy welcoming famil...</td>\n",
       "      <td>positive</td>\n",
       "      <td>amazing stay with such a happy welcoming famil...</td>\n",
       "    </tr>\n",
       "    <tr>\n",
       "      <th>4281</th>\n",
       "      <td>The host was amazing, and I loved the rooftop ...</td>\n",
       "      <td>positive</td>\n",
       "      <td>the host was amazing  and i loved the rooftop ...</td>\n",
       "    </tr>\n",
       "    <tr>\n",
       "      <th>4282</th>\n",
       "      <td>The owner and his family are very nice people,...</td>\n",
       "      <td>positive</td>\n",
       "      <td>the owner and his family are very nice people ...</td>\n",
       "    </tr>\n",
       "    <tr>\n",
       "      <th>4283</th>\n",
       "      <td>The hotel is clean and tidy  and new. Mr sulta...</td>\n",
       "      <td>positive</td>\n",
       "      <td>the hotel is clean and tidy  and new  mr sulta...</td>\n",
       "    </tr>\n",
       "  </tbody>\n",
       "</table>\n",
       "<p>4227 rows × 3 columns</p>\n",
       "</div>"
      ],
      "text/plain": [
       "                                                 review     Label  \\\n",
       "0     The rooms were beyond what we expected. Clean ...  positive   \n",
       "1     My stay was extremely comfortable. A beautiful...  positive   \n",
       "2     Definitely worth for the price you pay. Very c...   neutral   \n",
       "3     Meals and location very goodBetter if you’ll c...  positive   \n",
       "4     Worth for the money and their staff are very h...  positive   \n",
       "...                                                 ...       ...   \n",
       "4279  The place is like a hotel. The owner family is...  positive   \n",
       "4280  Amazing stay with such a happy welcoming famil...  positive   \n",
       "4281  The host was amazing, and I loved the rooftop ...  positive   \n",
       "4282  The owner and his family are very nice people,...  positive   \n",
       "4283  The hotel is clean and tidy  and new. Mr sulta...  positive   \n",
       "\n",
       "                                            CleanReview  \n",
       "0     the rooms were beyond what we expected  clean ...  \n",
       "1     my stay was extremely comfortable  a beautiful...  \n",
       "2     definitely worth for the price you pay  very c...  \n",
       "3     meals and location very goodbetter if you ll c...  \n",
       "4     worth for the money and their staff are very h...  \n",
       "...                                                 ...  \n",
       "4279  the place is like a hotel  the owner family is...  \n",
       "4280  amazing stay with such a happy welcoming famil...  \n",
       "4281  the host was amazing  and i loved the rooftop ...  \n",
       "4282  the owner and his family are very nice people ...  \n",
       "4283  the hotel is clean and tidy  and new  mr sulta...  \n",
       "\n",
       "[4227 rows x 3 columns]"
      ]
     },
     "execution_count": 17,
     "metadata": {},
     "output_type": "execute_result"
    }
   ],
   "source": [
    "def clean_lowercase(review_text):\n",
    "    return str (review_text).lower()\n",
    "df2['CleanReview']=df2['CleanReview'].apply(clean_lowercase)\n",
    "df2"
   ]
  },
  {
   "cell_type": "code",
   "execution_count": 18,
   "id": "3b966b7a",
   "metadata": {},
   "outputs": [
    {
     "name": "stderr",
     "output_type": "stream",
     "text": [
      "<ipython-input-18-4c15f826f52e>:4: SettingWithCopyWarning: \n",
      "A value is trying to be set on a copy of a slice from a DataFrame.\n",
      "Try using .loc[row_indexer,col_indexer] = value instead\n",
      "\n",
      "See the caveats in the documentation: https://pandas.pydata.org/pandas-docs/stable/user_guide/indexing.html#returning-a-view-versus-a-copy\n",
      "  df2['CleanReview']=df2['CleanReview'].apply(clean_tokenization)\n"
     ]
    },
    {
     "data": {
      "text/html": [
       "<div>\n",
       "<style scoped>\n",
       "    .dataframe tbody tr th:only-of-type {\n",
       "        vertical-align: middle;\n",
       "    }\n",
       "\n",
       "    .dataframe tbody tr th {\n",
       "        vertical-align: top;\n",
       "    }\n",
       "\n",
       "    .dataframe thead th {\n",
       "        text-align: right;\n",
       "    }\n",
       "</style>\n",
       "<table border=\"1\" class=\"dataframe\">\n",
       "  <thead>\n",
       "    <tr style=\"text-align: right;\">\n",
       "      <th></th>\n",
       "      <th>review</th>\n",
       "      <th>Label</th>\n",
       "      <th>CleanReview</th>\n",
       "    </tr>\n",
       "  </thead>\n",
       "  <tbody>\n",
       "    <tr>\n",
       "      <th>0</th>\n",
       "      <td>The rooms were beyond what we expected. Clean ...</td>\n",
       "      <td>positive</td>\n",
       "      <td>[the, rooms, were, beyond, what, we, expected,...</td>\n",
       "    </tr>\n",
       "    <tr>\n",
       "      <th>1</th>\n",
       "      <td>My stay was extremely comfortable. A beautiful...</td>\n",
       "      <td>positive</td>\n",
       "      <td>[my, stay, was, extremely, comfortable, a, bea...</td>\n",
       "    </tr>\n",
       "    <tr>\n",
       "      <th>2</th>\n",
       "      <td>Definitely worth for the price you pay. Very c...</td>\n",
       "      <td>neutral</td>\n",
       "      <td>[definitely, worth, for, the, price, you, pay,...</td>\n",
       "    </tr>\n",
       "    <tr>\n",
       "      <th>3</th>\n",
       "      <td>Meals and location very goodBetter if you’ll c...</td>\n",
       "      <td>positive</td>\n",
       "      <td>[meals, and, location, very, goodbetter, if, y...</td>\n",
       "    </tr>\n",
       "    <tr>\n",
       "      <th>4</th>\n",
       "      <td>Worth for the money and their staff are very h...</td>\n",
       "      <td>positive</td>\n",
       "      <td>[worth, for, the, money, and, their, staff, ar...</td>\n",
       "    </tr>\n",
       "    <tr>\n",
       "      <th>...</th>\n",
       "      <td>...</td>\n",
       "      <td>...</td>\n",
       "      <td>...</td>\n",
       "    </tr>\n",
       "    <tr>\n",
       "      <th>4279</th>\n",
       "      <td>The place is like a hotel. The owner family is...</td>\n",
       "      <td>positive</td>\n",
       "      <td>[the, place, is, like, a, hotel, the, owner, f...</td>\n",
       "    </tr>\n",
       "    <tr>\n",
       "      <th>4280</th>\n",
       "      <td>Amazing stay with such a happy welcoming famil...</td>\n",
       "      <td>positive</td>\n",
       "      <td>[amazing, stay, with, such, a, happy, welcomin...</td>\n",
       "    </tr>\n",
       "    <tr>\n",
       "      <th>4281</th>\n",
       "      <td>The host was amazing, and I loved the rooftop ...</td>\n",
       "      <td>positive</td>\n",
       "      <td>[the, host, was, amazing, and, i, loved, the, ...</td>\n",
       "    </tr>\n",
       "    <tr>\n",
       "      <th>4282</th>\n",
       "      <td>The owner and his family are very nice people,...</td>\n",
       "      <td>positive</td>\n",
       "      <td>[the, owner, and, his, family, are, very, nice...</td>\n",
       "    </tr>\n",
       "    <tr>\n",
       "      <th>4283</th>\n",
       "      <td>The hotel is clean and tidy  and new. Mr sulta...</td>\n",
       "      <td>positive</td>\n",
       "      <td>[the, hotel, is, clean, and, tidy, and, new, m...</td>\n",
       "    </tr>\n",
       "  </tbody>\n",
       "</table>\n",
       "<p>4227 rows × 3 columns</p>\n",
       "</div>"
      ],
      "text/plain": [
       "                                                 review     Label  \\\n",
       "0     The rooms were beyond what we expected. Clean ...  positive   \n",
       "1     My stay was extremely comfortable. A beautiful...  positive   \n",
       "2     Definitely worth for the price you pay. Very c...   neutral   \n",
       "3     Meals and location very goodBetter if you’ll c...  positive   \n",
       "4     Worth for the money and their staff are very h...  positive   \n",
       "...                                                 ...       ...   \n",
       "4279  The place is like a hotel. The owner family is...  positive   \n",
       "4280  Amazing stay with such a happy welcoming famil...  positive   \n",
       "4281  The host was amazing, and I loved the rooftop ...  positive   \n",
       "4282  The owner and his family are very nice people,...  positive   \n",
       "4283  The hotel is clean and tidy  and new. Mr sulta...  positive   \n",
       "\n",
       "                                            CleanReview  \n",
       "0     [the, rooms, were, beyond, what, we, expected,...  \n",
       "1     [my, stay, was, extremely, comfortable, a, bea...  \n",
       "2     [definitely, worth, for, the, price, you, pay,...  \n",
       "3     [meals, and, location, very, goodbetter, if, y...  \n",
       "4     [worth, for, the, money, and, their, staff, ar...  \n",
       "...                                                 ...  \n",
       "4279  [the, place, is, like, a, hotel, the, owner, f...  \n",
       "4280  [amazing, stay, with, such, a, happy, welcomin...  \n",
       "4281  [the, host, was, amazing, and, i, loved, the, ...  \n",
       "4282  [the, owner, and, his, family, are, very, nice...  \n",
       "4283  [the, hotel, is, clean, and, tidy, and, new, m...  \n",
       "\n",
       "[4227 rows x 3 columns]"
      ]
     },
     "execution_count": 18,
     "metadata": {},
     "output_type": "execute_result"
    }
   ],
   "source": [
    "def clean_tokenization(review_text):\n",
    "    return word_tokenize(review_text)\n",
    "\n",
    "df2['CleanReview']=df2['CleanReview'].apply(clean_tokenization)\n",
    "df2"
   ]
  },
  {
   "cell_type": "code",
   "execution_count": 19,
   "id": "fea2ef9e",
   "metadata": {},
   "outputs": [
    {
     "name": "stdout",
     "output_type": "stream",
     "text": [
      "['i', 'me', 'my', 'myself', 'we', 'our', 'ours', 'ourselves', 'you', \"you're\", \"you've\", \"you'll\", \"you'd\", 'your', 'yours', 'yourself', 'yourselves', 'he', 'him', 'his', 'himself', 'she', \"she's\", 'her', 'hers', 'herself', 'it', \"it's\", 'its', 'itself', 'they', 'them', 'their', 'theirs', 'themselves', 'what', 'which', 'who', 'whom', 'this', 'that', \"that'll\", 'these', 'those', 'am', 'is', 'are', 'was', 'were', 'be', 'been', 'being', 'have', 'has', 'had', 'having', 'do', 'does', 'did', 'doing', 'a', 'an', 'the', 'and', 'but', 'if', 'or', 'because', 'as', 'until', 'while', 'of', 'at', 'by', 'for', 'with', 'about', 'against', 'between', 'into', 'through', 'during', 'before', 'after', 'above', 'below', 'to', 'from', 'up', 'down', 'in', 'out', 'on', 'off', 'over', 'under', 'again', 'further', 'then', 'once', 'here', 'there', 'when', 'where', 'why', 'how', 'all', 'any', 'both', 'each', 'few', 'more', 'most', 'other', 'some', 'such', 'no', 'nor', 'not', 'only', 'own', 'same', 'so', 'than', 'too', 'very', 's', 't', 'can', 'will', 'just', 'don', \"don't\", 'should', \"should've\", 'now', 'd', 'll', 'm', 'o', 're', 've', 'y', 'ain', 'aren', \"aren't\", 'couldn', \"couldn't\", 'didn', \"didn't\", 'doesn', \"doesn't\", 'hadn', \"hadn't\", 'hasn', \"hasn't\", 'haven', \"haven't\", 'isn', \"isn't\", 'ma', 'mightn', \"mightn't\", 'mustn', \"mustn't\", 'needn', \"needn't\", 'shan', \"shan't\", 'shouldn', \"shouldn't\", 'wasn', \"wasn't\", 'weren', \"weren't\", 'won', \"won't\", 'wouldn', \"wouldn't\"]\n"
     ]
    }
   ],
   "source": [
    "print(stopwords.words('english'))"
   ]
  },
  {
   "cell_type": "code",
   "execution_count": 20,
   "id": "c4f9bb80",
   "metadata": {},
   "outputs": [
    {
     "name": "stderr",
     "output_type": "stream",
     "text": [
      "<ipython-input-20-9a40ddc5662b>:6: SettingWithCopyWarning: \n",
      "A value is trying to be set on a copy of a slice from a DataFrame.\n",
      "Try using .loc[row_indexer,col_indexer] = value instead\n",
      "\n",
      "See the caveats in the documentation: https://pandas.pydata.org/pandas-docs/stable/user_guide/indexing.html#returning-a-view-versus-a-copy\n",
      "  df2['CleanReview']=df2['CleanReview'].apply(clean_stopwords)\n"
     ]
    },
    {
     "data": {
      "text/html": [
       "<div>\n",
       "<style scoped>\n",
       "    .dataframe tbody tr th:only-of-type {\n",
       "        vertical-align: middle;\n",
       "    }\n",
       "\n",
       "    .dataframe tbody tr th {\n",
       "        vertical-align: top;\n",
       "    }\n",
       "\n",
       "    .dataframe thead th {\n",
       "        text-align: right;\n",
       "    }\n",
       "</style>\n",
       "<table border=\"1\" class=\"dataframe\">\n",
       "  <thead>\n",
       "    <tr style=\"text-align: right;\">\n",
       "      <th></th>\n",
       "      <th>review</th>\n",
       "      <th>Label</th>\n",
       "      <th>CleanReview</th>\n",
       "    </tr>\n",
       "  </thead>\n",
       "  <tbody>\n",
       "    <tr>\n",
       "      <th>0</th>\n",
       "      <td>The rooms were beyond what we expected. Clean ...</td>\n",
       "      <td>positive</td>\n",
       "      <td>[rooms, beyond, expected, clean, everything, s...</td>\n",
       "    </tr>\n",
       "    <tr>\n",
       "      <th>1</th>\n",
       "      <td>My stay was extremely comfortable. A beautiful...</td>\n",
       "      <td>positive</td>\n",
       "      <td>[stay, extremely, comfortable, beautiful, hote...</td>\n",
       "    </tr>\n",
       "    <tr>\n",
       "      <th>2</th>\n",
       "      <td>Definitely worth for the price you pay. Very c...</td>\n",
       "      <td>neutral</td>\n",
       "      <td>[definitely, worth, price, pay, convenient, pl...</td>\n",
       "    </tr>\n",
       "    <tr>\n",
       "      <th>3</th>\n",
       "      <td>Meals and location very goodBetter if you’ll c...</td>\n",
       "      <td>positive</td>\n",
       "      <td>[meals, location, goodbetter, change, checkout...</td>\n",
       "    </tr>\n",
       "    <tr>\n",
       "      <th>4</th>\n",
       "      <td>Worth for the money and their staff are very h...</td>\n",
       "      <td>positive</td>\n",
       "      <td>[worth, money, staff, helpful, friendly, im, h...</td>\n",
       "    </tr>\n",
       "    <tr>\n",
       "      <th>...</th>\n",
       "      <td>...</td>\n",
       "      <td>...</td>\n",
       "      <td>...</td>\n",
       "    </tr>\n",
       "    <tr>\n",
       "      <th>4279</th>\n",
       "      <td>The place is like a hotel. The owner family is...</td>\n",
       "      <td>positive</td>\n",
       "      <td>[place, like, hotel, owner, family, helpful, h...</td>\n",
       "    </tr>\n",
       "    <tr>\n",
       "      <th>4280</th>\n",
       "      <td>Amazing stay with such a happy welcoming famil...</td>\n",
       "      <td>positive</td>\n",
       "      <td>[amazing, stay, happy, welcoming, family, prom...</td>\n",
       "    </tr>\n",
       "    <tr>\n",
       "      <th>4281</th>\n",
       "      <td>The host was amazing, and I loved the rooftop ...</td>\n",
       "      <td>positive</td>\n",
       "      <td>[host, amazing, loved, rooftop, sunsets, liter...</td>\n",
       "    </tr>\n",
       "    <tr>\n",
       "      <th>4282</th>\n",
       "      <td>The owner and his family are very nice people,...</td>\n",
       "      <td>positive</td>\n",
       "      <td>[owner, family, nice, people, humble, honest, ...</td>\n",
       "    </tr>\n",
       "    <tr>\n",
       "      <th>4283</th>\n",
       "      <td>The hotel is clean and tidy  and new. Mr sulta...</td>\n",
       "      <td>positive</td>\n",
       "      <td>[hotel, clean, tidy, new, mr, sultan, friendly...</td>\n",
       "    </tr>\n",
       "  </tbody>\n",
       "</table>\n",
       "<p>4227 rows × 3 columns</p>\n",
       "</div>"
      ],
      "text/plain": [
       "                                                 review     Label  \\\n",
       "0     The rooms were beyond what we expected. Clean ...  positive   \n",
       "1     My stay was extremely comfortable. A beautiful...  positive   \n",
       "2     Definitely worth for the price you pay. Very c...   neutral   \n",
       "3     Meals and location very goodBetter if you’ll c...  positive   \n",
       "4     Worth for the money and their staff are very h...  positive   \n",
       "...                                                 ...       ...   \n",
       "4279  The place is like a hotel. The owner family is...  positive   \n",
       "4280  Amazing stay with such a happy welcoming famil...  positive   \n",
       "4281  The host was amazing, and I loved the rooftop ...  positive   \n",
       "4282  The owner and his family are very nice people,...  positive   \n",
       "4283  The hotel is clean and tidy  and new. Mr sulta...  positive   \n",
       "\n",
       "                                            CleanReview  \n",
       "0     [rooms, beyond, expected, clean, everything, s...  \n",
       "1     [stay, extremely, comfortable, beautiful, hote...  \n",
       "2     [definitely, worth, price, pay, convenient, pl...  \n",
       "3     [meals, location, goodbetter, change, checkout...  \n",
       "4     [worth, money, staff, helpful, friendly, im, h...  \n",
       "...                                                 ...  \n",
       "4279  [place, like, hotel, owner, family, helpful, h...  \n",
       "4280  [amazing, stay, happy, welcoming, family, prom...  \n",
       "4281  [host, amazing, loved, rooftop, sunsets, liter...  \n",
       "4282  [owner, family, nice, people, humble, honest, ...  \n",
       "4283  [hotel, clean, tidy, new, mr, sultan, friendly...  \n",
       "\n",
       "[4227 rows x 3 columns]"
      ]
     },
     "execution_count": 20,
     "metadata": {},
     "output_type": "execute_result"
    }
   ],
   "source": [
    "stop_words= set(stopwords.words('english'))\n",
    "\n",
    "def clean_stopwords(token):\n",
    "    return [item for item in token if item not in stop_words]\n",
    "\n",
    "df2['CleanReview']=df2['CleanReview'].apply(clean_stopwords)\n",
    "df2"
   ]
  },
  {
   "cell_type": "code",
   "execution_count": 21,
   "id": "4478a310",
   "metadata": {},
   "outputs": [
    {
     "name": "stderr",
     "output_type": "stream",
     "text": [
      "<ipython-input-21-a4375f614ed0>:6: SettingWithCopyWarning: \n",
      "A value is trying to be set on a copy of a slice from a DataFrame.\n",
      "Try using .loc[row_indexer,col_indexer] = value instead\n",
      "\n",
      "See the caveats in the documentation: https://pandas.pydata.org/pandas-docs/stable/user_guide/indexing.html#returning-a-view-versus-a-copy\n",
      "  df2['CleanReview']=df2['CleanReview'].apply(clean_lemmatization)\n"
     ]
    },
    {
     "data": {
      "text/html": [
       "<div>\n",
       "<style scoped>\n",
       "    .dataframe tbody tr th:only-of-type {\n",
       "        vertical-align: middle;\n",
       "    }\n",
       "\n",
       "    .dataframe tbody tr th {\n",
       "        vertical-align: top;\n",
       "    }\n",
       "\n",
       "    .dataframe thead th {\n",
       "        text-align: right;\n",
       "    }\n",
       "</style>\n",
       "<table border=\"1\" class=\"dataframe\">\n",
       "  <thead>\n",
       "    <tr style=\"text-align: right;\">\n",
       "      <th></th>\n",
       "      <th>review</th>\n",
       "      <th>Label</th>\n",
       "      <th>CleanReview</th>\n",
       "    </tr>\n",
       "  </thead>\n",
       "  <tbody>\n",
       "    <tr>\n",
       "      <th>0</th>\n",
       "      <td>The rooms were beyond what we expected. Clean ...</td>\n",
       "      <td>positive</td>\n",
       "      <td>[room, beyond, expect, clean, everything, staf...</td>\n",
       "    </tr>\n",
       "    <tr>\n",
       "      <th>1</th>\n",
       "      <td>My stay was extremely comfortable. A beautiful...</td>\n",
       "      <td>positive</td>\n",
       "      <td>[stay, extremely, comfortable, beautiful, hote...</td>\n",
       "    </tr>\n",
       "    <tr>\n",
       "      <th>2</th>\n",
       "      <td>Definitely worth for the price you pay. Very c...</td>\n",
       "      <td>neutral</td>\n",
       "      <td>[definitely, worth, price, pay, convenient, pl...</td>\n",
       "    </tr>\n",
       "    <tr>\n",
       "      <th>3</th>\n",
       "      <td>Meals and location very goodBetter if you’ll c...</td>\n",
       "      <td>positive</td>\n",
       "      <td>[meals, location, goodbetter, change, checkout...</td>\n",
       "    </tr>\n",
       "    <tr>\n",
       "      <th>4</th>\n",
       "      <td>Worth for the money and their staff are very h...</td>\n",
       "      <td>positive</td>\n",
       "      <td>[worth, money, staff, helpful, friendly, im, h...</td>\n",
       "    </tr>\n",
       "    <tr>\n",
       "      <th>...</th>\n",
       "      <td>...</td>\n",
       "      <td>...</td>\n",
       "      <td>...</td>\n",
       "    </tr>\n",
       "    <tr>\n",
       "      <th>4279</th>\n",
       "      <td>The place is like a hotel. The owner family is...</td>\n",
       "      <td>positive</td>\n",
       "      <td>[place, like, hotel, owner, family, helpful, h...</td>\n",
       "    </tr>\n",
       "    <tr>\n",
       "      <th>4280</th>\n",
       "      <td>Amazing stay with such a happy welcoming famil...</td>\n",
       "      <td>positive</td>\n",
       "      <td>[amaze, stay, happy, welcome, family, promise,...</td>\n",
       "    </tr>\n",
       "    <tr>\n",
       "      <th>4281</th>\n",
       "      <td>The host was amazing, and I loved the rooftop ...</td>\n",
       "      <td>positive</td>\n",
       "      <td>[host, amaze, love, rooftop, sunsets, literall...</td>\n",
       "    </tr>\n",
       "    <tr>\n",
       "      <th>4282</th>\n",
       "      <td>The owner and his family are very nice people,...</td>\n",
       "      <td>positive</td>\n",
       "      <td>[owner, family, nice, people, humble, honest, ...</td>\n",
       "    </tr>\n",
       "    <tr>\n",
       "      <th>4283</th>\n",
       "      <td>The hotel is clean and tidy  and new. Mr sulta...</td>\n",
       "      <td>positive</td>\n",
       "      <td>[hotel, clean, tidy, new, mr, sultan, friendly...</td>\n",
       "    </tr>\n",
       "  </tbody>\n",
       "</table>\n",
       "<p>4227 rows × 3 columns</p>\n",
       "</div>"
      ],
      "text/plain": [
       "                                                 review     Label  \\\n",
       "0     The rooms were beyond what we expected. Clean ...  positive   \n",
       "1     My stay was extremely comfortable. A beautiful...  positive   \n",
       "2     Definitely worth for the price you pay. Very c...   neutral   \n",
       "3     Meals and location very goodBetter if you’ll c...  positive   \n",
       "4     Worth for the money and their staff are very h...  positive   \n",
       "...                                                 ...       ...   \n",
       "4279  The place is like a hotel. The owner family is...  positive   \n",
       "4280  Amazing stay with such a happy welcoming famil...  positive   \n",
       "4281  The host was amazing, and I loved the rooftop ...  positive   \n",
       "4282  The owner and his family are very nice people,...  positive   \n",
       "4283  The hotel is clean and tidy  and new. Mr sulta...  positive   \n",
       "\n",
       "                                            CleanReview  \n",
       "0     [room, beyond, expect, clean, everything, staf...  \n",
       "1     [stay, extremely, comfortable, beautiful, hote...  \n",
       "2     [definitely, worth, price, pay, convenient, pl...  \n",
       "3     [meals, location, goodbetter, change, checkout...  \n",
       "4     [worth, money, staff, helpful, friendly, im, h...  \n",
       "...                                                 ...  \n",
       "4279  [place, like, hotel, owner, family, helpful, h...  \n",
       "4280  [amaze, stay, happy, welcome, family, promise,...  \n",
       "4281  [host, amaze, love, rooftop, sunsets, literall...  \n",
       "4282  [owner, family, nice, people, humble, honest, ...  \n",
       "4283  [hotel, clean, tidy, new, mr, sultan, friendly...  \n",
       "\n",
       "[4227 rows x 3 columns]"
      ]
     },
     "execution_count": 21,
     "metadata": {},
     "output_type": "execute_result"
    }
   ],
   "source": [
    "from nltk.stem import WordNetLemmatizer\n",
    "lemma=WordNetLemmatizer()\n",
    "\n",
    "def clean_lemmatization(token):\n",
    "    return [lemma.lemmatize(word=w,pos='v') for w in token]\n",
    "df2['CleanReview']=df2['CleanReview'].apply(clean_lemmatization)\n",
    "df2"
   ]
  },
  {
   "cell_type": "code",
   "execution_count": 22,
   "id": "6c4254f1",
   "metadata": {},
   "outputs": [
    {
     "name": "stderr",
     "output_type": "stream",
     "text": [
      "<ipython-input-22-dd203d99d6a2>:4: SettingWithCopyWarning: \n",
      "A value is trying to be set on a copy of a slice from a DataFrame.\n",
      "Try using .loc[row_indexer,col_indexer] = value instead\n",
      "\n",
      "See the caveats in the documentation: https://pandas.pydata.org/pandas-docs/stable/user_guide/indexing.html#returning-a-view-versus-a-copy\n",
      "  df2['CleanReview']=df2['CleanReview'].apply(convert_to_string)\n"
     ]
    },
    {
     "data": {
      "text/html": [
       "<div>\n",
       "<style scoped>\n",
       "    .dataframe tbody tr th:only-of-type {\n",
       "        vertical-align: middle;\n",
       "    }\n",
       "\n",
       "    .dataframe tbody tr th {\n",
       "        vertical-align: top;\n",
       "    }\n",
       "\n",
       "    .dataframe thead th {\n",
       "        text-align: right;\n",
       "    }\n",
       "</style>\n",
       "<table border=\"1\" class=\"dataframe\">\n",
       "  <thead>\n",
       "    <tr style=\"text-align: right;\">\n",
       "      <th></th>\n",
       "      <th>review</th>\n",
       "      <th>Label</th>\n",
       "      <th>CleanReview</th>\n",
       "    </tr>\n",
       "  </thead>\n",
       "  <tbody>\n",
       "    <tr>\n",
       "      <th>0</th>\n",
       "      <td>The rooms were beyond what we expected. Clean ...</td>\n",
       "      <td>positive</td>\n",
       "      <td>room beyond expect clean everything staff nice...</td>\n",
       "    </tr>\n",
       "    <tr>\n",
       "      <th>1</th>\n",
       "      <td>My stay was extremely comfortable. A beautiful...</td>\n",
       "      <td>positive</td>\n",
       "      <td>stay extremely comfortable beautiful hotel sur...</td>\n",
       "    </tr>\n",
       "    <tr>\n",
       "      <th>2</th>\n",
       "      <td>Definitely worth for the price you pay. Very c...</td>\n",
       "      <td>neutral</td>\n",
       "      <td>definitely worth price pay convenient place he...</td>\n",
       "    </tr>\n",
       "    <tr>\n",
       "      <th>3</th>\n",
       "      <td>Meals and location very goodBetter if you’ll c...</td>\n",
       "      <td>positive</td>\n",
       "      <td>meals location goodbetter change checkout time...</td>\n",
       "    </tr>\n",
       "    <tr>\n",
       "      <th>4</th>\n",
       "      <td>Worth for the money and their staff are very h...</td>\n",
       "      <td>positive</td>\n",
       "      <td>worth money staff helpful friendly im happy se...</td>\n",
       "    </tr>\n",
       "    <tr>\n",
       "      <th>...</th>\n",
       "      <td>...</td>\n",
       "      <td>...</td>\n",
       "      <td>...</td>\n",
       "    </tr>\n",
       "    <tr>\n",
       "      <th>4279</th>\n",
       "      <td>The place is like a hotel. The owner family is...</td>\n",
       "      <td>positive</td>\n",
       "      <td>place like hotel owner family helpful hospital...</td>\n",
       "    </tr>\n",
       "    <tr>\n",
       "      <th>4280</th>\n",
       "      <td>Amazing stay with such a happy welcoming famil...</td>\n",
       "      <td>positive</td>\n",
       "      <td>amaze stay happy welcome family promise wont d...</td>\n",
       "    </tr>\n",
       "    <tr>\n",
       "      <th>4281</th>\n",
       "      <td>The host was amazing, and I loved the rooftop ...</td>\n",
       "      <td>positive</td>\n",
       "      <td>host amaze love rooftop sunsets literally fini...</td>\n",
       "    </tr>\n",
       "    <tr>\n",
       "      <th>4282</th>\n",
       "      <td>The owner and his family are very nice people,...</td>\n",
       "      <td>positive</td>\n",
       "      <td>owner family nice people humble honest persona...</td>\n",
       "    </tr>\n",
       "    <tr>\n",
       "      <th>4283</th>\n",
       "      <td>The hotel is clean and tidy  and new. Mr sulta...</td>\n",
       "      <td>positive</td>\n",
       "      <td>hotel clean tidy new mr sultan friendly welcom...</td>\n",
       "    </tr>\n",
       "  </tbody>\n",
       "</table>\n",
       "<p>4227 rows × 3 columns</p>\n",
       "</div>"
      ],
      "text/plain": [
       "                                                 review     Label  \\\n",
       "0     The rooms were beyond what we expected. Clean ...  positive   \n",
       "1     My stay was extremely comfortable. A beautiful...  positive   \n",
       "2     Definitely worth for the price you pay. Very c...   neutral   \n",
       "3     Meals and location very goodBetter if you’ll c...  positive   \n",
       "4     Worth for the money and their staff are very h...  positive   \n",
       "...                                                 ...       ...   \n",
       "4279  The place is like a hotel. The owner family is...  positive   \n",
       "4280  Amazing stay with such a happy welcoming famil...  positive   \n",
       "4281  The host was amazing, and I loved the rooftop ...  positive   \n",
       "4282  The owner and his family are very nice people,...  positive   \n",
       "4283  The hotel is clean and tidy  and new. Mr sulta...  positive   \n",
       "\n",
       "                                            CleanReview  \n",
       "0     room beyond expect clean everything staff nice...  \n",
       "1     stay extremely comfortable beautiful hotel sur...  \n",
       "2     definitely worth price pay convenient place he...  \n",
       "3     meals location goodbetter change checkout time...  \n",
       "4     worth money staff helpful friendly im happy se...  \n",
       "...                                                 ...  \n",
       "4279  place like hotel owner family helpful hospital...  \n",
       "4280  amaze stay happy welcome family promise wont d...  \n",
       "4281  host amaze love rooftop sunsets literally fini...  \n",
       "4282  owner family nice people humble honest persona...  \n",
       "4283  hotel clean tidy new mr sultan friendly welcom...  \n",
       "\n",
       "[4227 rows x 3 columns]"
      ]
     },
     "execution_count": 22,
     "metadata": {},
     "output_type": "execute_result"
    }
   ],
   "source": [
    "def convert_to_string(listReview):\n",
    "    return ' '.join(listReview)\n",
    "\n",
    "df2['CleanReview']=df2['CleanReview'].apply(convert_to_string)\n",
    "df2"
   ]
  },
  {
   "cell_type": "code",
   "execution_count": 23,
   "id": "3f38faea",
   "metadata": {},
   "outputs": [
    {
     "data": {
      "text/html": [
       "<div>\n",
       "<style scoped>\n",
       "    .dataframe tbody tr th:only-of-type {\n",
       "        vertical-align: middle;\n",
       "    }\n",
       "\n",
       "    .dataframe tbody tr th {\n",
       "        vertical-align: top;\n",
       "    }\n",
       "\n",
       "    .dataframe thead th {\n",
       "        text-align: right;\n",
       "    }\n",
       "</style>\n",
       "<table border=\"1\" class=\"dataframe\">\n",
       "  <thead>\n",
       "    <tr style=\"text-align: right;\">\n",
       "      <th></th>\n",
       "      <th>CleanReview</th>\n",
       "      <th>Label</th>\n",
       "    </tr>\n",
       "  </thead>\n",
       "  <tbody>\n",
       "    <tr>\n",
       "      <th>0</th>\n",
       "      <td>room beyond expect clean everything staff nice...</td>\n",
       "      <td>positive</td>\n",
       "    </tr>\n",
       "    <tr>\n",
       "      <th>1</th>\n",
       "      <td>stay extremely comfortable beautiful hotel sur...</td>\n",
       "      <td>positive</td>\n",
       "    </tr>\n",
       "    <tr>\n",
       "      <th>2</th>\n",
       "      <td>definitely worth price pay convenient place he...</td>\n",
       "      <td>neutral</td>\n",
       "    </tr>\n",
       "    <tr>\n",
       "      <th>3</th>\n",
       "      <td>meals location goodbetter change checkout time...</td>\n",
       "      <td>positive</td>\n",
       "    </tr>\n",
       "    <tr>\n",
       "      <th>4</th>\n",
       "      <td>worth money staff helpful friendly im happy se...</td>\n",
       "      <td>positive</td>\n",
       "    </tr>\n",
       "    <tr>\n",
       "      <th>...</th>\n",
       "      <td>...</td>\n",
       "      <td>...</td>\n",
       "    </tr>\n",
       "    <tr>\n",
       "      <th>4279</th>\n",
       "      <td>place like hotel owner family helpful hospital...</td>\n",
       "      <td>positive</td>\n",
       "    </tr>\n",
       "    <tr>\n",
       "      <th>4280</th>\n",
       "      <td>amaze stay happy welcome family promise wont d...</td>\n",
       "      <td>positive</td>\n",
       "    </tr>\n",
       "    <tr>\n",
       "      <th>4281</th>\n",
       "      <td>host amaze love rooftop sunsets literally fini...</td>\n",
       "      <td>positive</td>\n",
       "    </tr>\n",
       "    <tr>\n",
       "      <th>4282</th>\n",
       "      <td>owner family nice people humble honest persona...</td>\n",
       "      <td>positive</td>\n",
       "    </tr>\n",
       "    <tr>\n",
       "      <th>4283</th>\n",
       "      <td>hotel clean tidy new mr sultan friendly welcom...</td>\n",
       "      <td>positive</td>\n",
       "    </tr>\n",
       "  </tbody>\n",
       "</table>\n",
       "<p>4227 rows × 2 columns</p>\n",
       "</div>"
      ],
      "text/plain": [
       "                                            CleanReview     Label\n",
       "0     room beyond expect clean everything staff nice...  positive\n",
       "1     stay extremely comfortable beautiful hotel sur...  positive\n",
       "2     definitely worth price pay convenient place he...   neutral\n",
       "3     meals location goodbetter change checkout time...  positive\n",
       "4     worth money staff helpful friendly im happy se...  positive\n",
       "...                                                 ...       ...\n",
       "4279  place like hotel owner family helpful hospital...  positive\n",
       "4280  amaze stay happy welcome family promise wont d...  positive\n",
       "4281  host amaze love rooftop sunsets literally fini...  positive\n",
       "4282  owner family nice people humble honest persona...  positive\n",
       "4283  hotel clean tidy new mr sultan friendly welcom...  positive\n",
       "\n",
       "[4227 rows x 2 columns]"
      ]
     },
     "execution_count": 23,
     "metadata": {},
     "output_type": "execute_result"
    }
   ],
   "source": [
    "df_new=df2[['CleanReview','Label']]\n",
    "df_new"
   ]
  },
  {
   "cell_type": "code",
   "execution_count": 24,
   "id": "eb81c734",
   "metadata": {},
   "outputs": [
    {
     "name": "stdout",
     "output_type": "stream",
     "text": [
      "6.0\n",
      "4.0\n"
     ]
    }
   ],
   "source": [
    "plot_size = plt.rcParams[\"figure.figsize\"] \n",
    "print(plot_size[0]) \n",
    "print(plot_size[1])\n",
    "\n",
    "plot_size[0] = 8\n",
    "plot_size[1] = 6\n",
    "plt.rcParams[\"figure.figsize\"] = plot_size"
   ]
  },
  {
   "cell_type": "code",
   "execution_count": 25,
   "id": "60a852ba",
   "metadata": {},
   "outputs": [
    {
     "data": {
      "text/plain": [
       "<AxesSubplot:ylabel='Label'>"
      ]
     },
     "execution_count": 25,
     "metadata": {},
     "output_type": "execute_result"
    },
    {
     "data": {
      "image/png": "[encoded data removed]",
      "text/plain": [
       "<Figure size 576x432 with 1 Axes>"
      ]
     },
     "metadata": {},
     "output_type": "display_data"
    }
   ],
   "source": [
    "df_new.Label.value_counts().plot(kind='pie', autopct='%1.0f%%')"
   ]
  },
  {
   "cell_type": "markdown",
   "id": "30bf4809",
   "metadata": {},
   "source": [
    "# Sentiment Analysis by Using Vader NLTK -Lexicon Method"
   ]
  },
  {
   "cell_type": "code",
   "execution_count": 26,
   "id": "6023596e",
   "metadata": {
    "scrolled": true
   },
   "outputs": [
    {
     "name": "stdout",
     "output_type": "stream",
     "text": [
      "Requirement already satisfied: scikit-learn in c:\\programdata\\anaconda3\\lib\\site-packages (0.24.1)\n",
      "Requirement already satisfied: scipy>=0.19.1 in c:\\programdata\\anaconda3\\lib\\site-packages (from scikit-learn) (1.6.2)\n",
      "Requirement already satisfied: numpy>=1.13.3 in c:\\programdata\\anaconda3\\lib\\site-packages (from scikit-learn) (1.20.1)\n",
      "Requirement already satisfied: joblib>=0.11 in c:\\programdata\\anaconda3\\lib\\site-packages (from scikit-learn) (1.0.1)\n",
      "Requirement already satisfied: threadpoolctl>=2.0.0 in c:\\programdata\\anaconda3\\lib\\site-packages (from scikit-learn) (2.1.0)\n",
      "Note: you may need to restart the kernel to use updated packages.\n"
     ]
    }
   ],
   "source": [
    "pip install scikit-learn"
   ]
  },
  {
   "cell_type": "code",
   "execution_count": 27,
   "id": "b4098f56",
   "metadata": {},
   "outputs": [],
   "source": [
    "\n",
    "from nltk.sentiment.vader import SentimentIntensityAnalyzer\n",
    "vader = SentimentIntensityAnalyzer()"
   ]
  },
  {
   "cell_type": "code",
   "execution_count": 28,
   "id": "c2b62cdf",
   "metadata": {},
   "outputs": [
    {
     "name": "stderr",
     "output_type": "stream",
     "text": [
      "[nltk_data] Downloading package vader_lexicon to C:\\Users\\Madhu\n",
      "[nltk_data]     Com\\AppData\\Roaming\\nltk_data...\n",
      "[nltk_data]   Package vader_lexicon is already up-to-date!\n"
     ]
    },
    {
     "data": {
      "text/plain": [
       "True"
      ]
     },
     "execution_count": 28,
     "metadata": {},
     "output_type": "execute_result"
    }
   ],
   "source": [
    "nltk.download('vader_lexicon') "
   ]
  },
  {
   "cell_type": "code",
   "execution_count": 29,
   "id": "078c8bbc",
   "metadata": {
    "scrolled": true
   },
   "outputs": [
    {
     "data": {
      "text/html": [
       "<div>\n",
       "<style scoped>\n",
       "    .dataframe tbody tr th:only-of-type {\n",
       "        vertical-align: middle;\n",
       "    }\n",
       "\n",
       "    .dataframe tbody tr th {\n",
       "        vertical-align: top;\n",
       "    }\n",
       "\n",
       "    .dataframe thead th {\n",
       "        text-align: right;\n",
       "    }\n",
       "</style>\n",
       "<table border=\"1\" class=\"dataframe\">\n",
       "  <thead>\n",
       "    <tr style=\"text-align: right;\">\n",
       "      <th></th>\n",
       "      <th>CleanReview</th>\n",
       "      <th>Label</th>\n",
       "      <th>scores</th>\n",
       "    </tr>\n",
       "  </thead>\n",
       "  <tbody>\n",
       "    <tr>\n",
       "      <th>0</th>\n",
       "      <td>room beyond expect clean everything staff nice...</td>\n",
       "      <td>positive</td>\n",
       "      <td>{'neg': 0.0, 'neu': 0.522, 'pos': 0.478, 'comp...</td>\n",
       "    </tr>\n",
       "    <tr>\n",
       "      <th>1</th>\n",
       "      <td>stay extremely comfortable beautiful hotel sur...</td>\n",
       "      <td>positive</td>\n",
       "      <td>{'neg': 0.0, 'neu': 0.266, 'pos': 0.734, 'comp...</td>\n",
       "    </tr>\n",
       "    <tr>\n",
       "      <th>2</th>\n",
       "      <td>definitely worth price pay convenient place he...</td>\n",
       "      <td>neutral</td>\n",
       "      <td>{'neg': 0.115, 'neu': 0.569, 'pos': 0.315, 'co...</td>\n",
       "    </tr>\n",
       "    <tr>\n",
       "      <th>3</th>\n",
       "      <td>meals location goodbetter change checkout time...</td>\n",
       "      <td>positive</td>\n",
       "      <td>{'neg': 0.0, 'neu': 1.0, 'pos': 0.0, 'compound...</td>\n",
       "    </tr>\n",
       "    <tr>\n",
       "      <th>4</th>\n",
       "      <td>worth money staff helpful friendly im happy se...</td>\n",
       "      <td>positive</td>\n",
       "      <td>{'neg': 0.0, 'neu': 0.347, 'pos': 0.653, 'comp...</td>\n",
       "    </tr>\n",
       "  </tbody>\n",
       "</table>\n",
       "</div>"
      ],
      "text/plain": [
       "                                         CleanReview     Label  \\\n",
       "0  room beyond expect clean everything staff nice...  positive   \n",
       "1  stay extremely comfortable beautiful hotel sur...  positive   \n",
       "2  definitely worth price pay convenient place he...   neutral   \n",
       "3  meals location goodbetter change checkout time...  positive   \n",
       "4  worth money staff helpful friendly im happy se...  positive   \n",
       "\n",
       "                                              scores  \n",
       "0  {'neg': 0.0, 'neu': 0.522, 'pos': 0.478, 'comp...  \n",
       "1  {'neg': 0.0, 'neu': 0.266, 'pos': 0.734, 'comp...  \n",
       "2  {'neg': 0.115, 'neu': 0.569, 'pos': 0.315, 'co...  \n",
       "3  {'neg': 0.0, 'neu': 1.0, 'pos': 0.0, 'compound...  \n",
       "4  {'neg': 0.0, 'neu': 0.347, 'pos': 0.653, 'comp...  "
      ]
     },
     "execution_count": 29,
     "metadata": {},
     "output_type": "execute_result"
    }
   ],
   "source": [
    "df_new['scores'] = df_new['CleanReview'].apply(lambda review: vader.polarity_scores(review))\n",
    "df_new.head()"
   ]
  },
  {
   "cell_type": "code",
   "execution_count": 30,
   "id": "48119ae3",
   "metadata": {},
   "outputs": [],
   "source": [
    "df_new['compound']=df_new['scores'].apply(lambda score_dict: score_dict['compound'])"
   ]
  },
  {
   "cell_type": "code",
   "execution_count": 31,
   "id": "b2bb12cf",
   "metadata": {
    "scrolled": true
   },
   "outputs": [
    {
     "data": {
      "text/html": [
       "<div>\n",
       "<style scoped>\n",
       "    .dataframe tbody tr th:only-of-type {\n",
       "        vertical-align: middle;\n",
       "    }\n",
       "\n",
       "    .dataframe tbody tr th {\n",
       "        vertical-align: top;\n",
       "    }\n",
       "\n",
       "    .dataframe thead th {\n",
       "        text-align: right;\n",
       "    }\n",
       "</style>\n",
       "<table border=\"1\" class=\"dataframe\">\n",
       "  <thead>\n",
       "    <tr style=\"text-align: right;\">\n",
       "      <th></th>\n",
       "      <th>CleanReview</th>\n",
       "      <th>Label</th>\n",
       "      <th>scores</th>\n",
       "      <th>compound</th>\n",
       "      <th>sentiment</th>\n",
       "    </tr>\n",
       "  </thead>\n",
       "  <tbody>\n",
       "    <tr>\n",
       "      <th>0</th>\n",
       "      <td>room beyond expect clean everything staff nice...</td>\n",
       "      <td>positive</td>\n",
       "      <td>{'neg': 0.0, 'neu': 0.522, 'pos': 0.478, 'comp...</td>\n",
       "      <td>0.6705</td>\n",
       "      <td>positive</td>\n",
       "    </tr>\n",
       "    <tr>\n",
       "      <th>1</th>\n",
       "      <td>stay extremely comfortable beautiful hotel sur...</td>\n",
       "      <td>positive</td>\n",
       "      <td>{'neg': 0.0, 'neu': 0.266, 'pos': 0.734, 'comp...</td>\n",
       "      <td>0.9651</td>\n",
       "      <td>positive</td>\n",
       "    </tr>\n",
       "    <tr>\n",
       "      <th>2</th>\n",
       "      <td>definitely worth price pay convenient place he...</td>\n",
       "      <td>neutral</td>\n",
       "      <td>{'neg': 0.115, 'neu': 0.569, 'pos': 0.315, 'co...</td>\n",
       "      <td>0.9372</td>\n",
       "      <td>positive</td>\n",
       "    </tr>\n",
       "    <tr>\n",
       "      <th>3</th>\n",
       "      <td>meals location goodbetter change checkout time...</td>\n",
       "      <td>positive</td>\n",
       "      <td>{'neg': 0.0, 'neu': 1.0, 'pos': 0.0, 'compound...</td>\n",
       "      <td>0.0000</td>\n",
       "      <td>neutral</td>\n",
       "    </tr>\n",
       "    <tr>\n",
       "      <th>4</th>\n",
       "      <td>worth money staff helpful friendly im happy se...</td>\n",
       "      <td>positive</td>\n",
       "      <td>{'neg': 0.0, 'neu': 0.347, 'pos': 0.653, 'comp...</td>\n",
       "      <td>0.9802</td>\n",
       "      <td>positive</td>\n",
       "    </tr>\n",
       "  </tbody>\n",
       "</table>\n",
       "</div>"
      ],
      "text/plain": [
       "                                         CleanReview     Label  \\\n",
       "0  room beyond expect clean everything staff nice...  positive   \n",
       "1  stay extremely comfortable beautiful hotel sur...  positive   \n",
       "2  definitely worth price pay convenient place he...   neutral   \n",
       "3  meals location goodbetter change checkout time...  positive   \n",
       "4  worth money staff helpful friendly im happy se...  positive   \n",
       "\n",
       "                                              scores  compound sentiment  \n",
       "0  {'neg': 0.0, 'neu': 0.522, 'pos': 0.478, 'comp...    0.6705  positive  \n",
       "1  {'neg': 0.0, 'neu': 0.266, 'pos': 0.734, 'comp...    0.9651  positive  \n",
       "2  {'neg': 0.115, 'neu': 0.569, 'pos': 0.315, 'co...    0.9372  positive  \n",
       "3  {'neg': 0.0, 'neu': 1.0, 'pos': 0.0, 'compound...    0.0000   neutral  \n",
       "4  {'neg': 0.0, 'neu': 0.347, 'pos': 0.653, 'comp...    0.9802  positive  "
      ]
     },
     "execution_count": 31,
     "metadata": {},
     "output_type": "execute_result"
    }
   ],
   "source": [
    "df_new['sentiment']=df_new['compound'].apply(lambda c: 'positive' if c> 0 else ('negative' if c<0 else 'neutral' ))\n",
    "df_new.head()"
   ]
  },
  {
   "cell_type": "code",
   "execution_count": 32,
   "id": "a025218d",
   "metadata": {
    "scrolled": false
   },
   "outputs": [
    {
     "name": "stdout",
     "output_type": "stream",
     "text": [
      "Vader accuracy score:  0.6420629287911048\n"
     ]
    }
   ],
   "source": [
    "print('Vader accuracy score: ',accuracy_score(df_new['Label'],df_new['sentiment']))"
   ]
  },
  {
   "cell_type": "code",
   "execution_count": 33,
   "id": "d9ca118c",
   "metadata": {},
   "outputs": [
    {
     "data": {
      "image/png": "[encoded data removed]",
      "text/plain": [
       "<Figure size 576x432 with 1 Axes>"
      ]
     },
     "metadata": {},
     "output_type": "display_data"
    }
   ],
   "source": [
    "\n",
    "\n",
    "x=np.array([1,3,5])\n",
    "y=df_new['Label'].value_counts()\n",
    "z=df_new['sentiment'].value_counts()\n",
    "\n",
    "\n",
    "\n",
    "plt.bar(x - 0.4, y,label='actual') # offset of -0.4\n",
    "plt.bar(x + 0.4, z,label='predicted') # offset of  0.4\n",
    "plt.legend()\n",
    "plt.show()"
   ]
  },
  {
   "cell_type": "markdown",
   "id": "6560743a",
   "metadata": {},
   "source": [
    "# Sentiment Analysis for the Imbalanced Dataset - ML Algorithms"
   ]
  },
  {
   "cell_type": "markdown",
   "id": "5fbffeff",
   "metadata": {},
   "source": [
    "## Train and Test dataset"
   ]
  },
  {
   "cell_type": "code",
   "execution_count": 34,
   "id": "e213ada9",
   "metadata": {},
   "outputs": [],
   "source": [
    "from sklearn.model_selection import train_test_split"
   ]
  },
  {
   "cell_type": "code",
   "execution_count": 35,
   "id": "c5bdc6d6",
   "metadata": {},
   "outputs": [],
   "source": [
    "X_train,X_test,y_train,y_test=train_test_split (df_new['CleanReview'],df_new['Label'],test_size=0.2,random_state=10)"
   ]
  },
  {
   "cell_type": "code",
   "execution_count": 36,
   "id": "b705fe01",
   "metadata": {},
   "outputs": [],
   "source": [
    "np.random.seed(100)"
   ]
  },
  {
   "cell_type": "code",
   "execution_count": 37,
   "id": "b2216c8a",
   "metadata": {},
   "outputs": [],
   "source": [
    "Encoder = LabelEncoder()\n",
    "y_train = Encoder.fit_transform(y_train)\n",
    "y_test = Encoder.fit_transform(y_test)"
   ]
  },
  {
   "cell_type": "code",
   "execution_count": 38,
   "id": "0606638d",
   "metadata": {},
   "outputs": [
    {
     "data": {
      "text/plain": [
       "TfidfVectorizer(max_features=1000)"
      ]
     },
     "execution_count": 38,
     "metadata": {},
     "output_type": "execute_result"
    }
   ],
   "source": [
    "Tfidf_vect = TfidfVectorizer(max_features=1000)\n",
    "Tfidf_vect.fit(X_train,X_test)"
   ]
  },
  {
   "cell_type": "code",
   "execution_count": 39,
   "id": "d16435da",
   "metadata": {},
   "outputs": [],
   "source": [
    "Train_X_Tfidf = Tfidf_vect.transform(X_train)\n",
    "Test_X_Tfidf = Tfidf_vect.transform(X_test)"
   ]
  },
  {
   "cell_type": "code",
   "execution_count": 40,
   "id": "d4f0f22a",
   "metadata": {
    "scrolled": true
   },
   "outputs": [
    {
     "name": "stdout",
     "output_type": "stream",
     "text": [
      "{'second': 756, 'visit': 950, 'love': 510, 'everything': 295, 'breakfast': 107, 'best': 88, 'view': 946, 'staff': 819, 'take': 860, 'good': 374, 'care': 129, 'nothing': 600, 'place': 650, 'perfect': 640, 'one': 608, 'night': 591, 'stay': 829, 'dinner': 241, 'delicious': 227, 'service': 764, 'great': 379, 'location': 499, 'quiet': 695, 'peaceful': 636, 'close': 162, 'traffic': 904, 'noise': 594, 'well': 968, 'really': 708, 'friendly': 356, 'helpful': 401, 'owner': 624, 'help': 400, 'organize': 617, 'trip': 914, 'train': 905, 'kandy': 456, 'ella': 276, 'thank': 873, 'clean': 155, 'beautiful': 82, 'complain': 177, 'nice': 587, 'room': 740, 'little': 493, 'dirty': 245, 'owners': 625, 'locationwas': 501, 'request': 725, 'large': 474, 'bed': 84, 'show': 771, 'available': 64, 'site': 783, 'instead': 445, 'two': 927, 'single': 781, 'enjoy': 281, 'last': 475, 'drop': 263, 'pub': 689, 'right': 734, 'next': 586, 'door': 252, 'hotel': 426, 'temple': 870, 'tooth': 894, 'communication': 175, 'still': 832, 'go': 373, 'days': 219, 'food': 345, 'like': 489, 'provide': 688, 'private': 678, 'space': 807, 'light': 488, 'enough': 283, 'blanket': 96, 'sheet': 768, 'mini': 550, 'fan': 320, 'actually': 12, 'near': 578, 'railway': 698, 'station': 828, 'think': 878, 'dark': 216, 'road': 736, 'since': 780, 'arrive': 54, 'sunset': 846, 'consider': 188, 'tuktuk': 922, 'make': 524, 'us': 936, 'feel': 328, 'welcome': 967, 'moment': 560, 'get': 370, 'many': 529, 'recommendations': 715, 'things': 877, 'include': 438, 'hear': 397, 'anything': 39, 'travellers': 911, 'offer': 604, 'choice': 149, 'western': 969, 'sri': 818, 'lankan': 473, 'day': 218, 'double': 256, 'home': 414, 'key': 459, 'stun': 839, 'valley': 940, 'spectacular': 812, 'modern': 557, 'super': 847, 'comfy': 171, 'keep': 457, 'pool': 664, 'ask': 56, 'better': 89, 'host': 423, 'lovely': 511, 'wonderful': 986, 'people': 637, 'comfortable': 170, 'exceed': 298, 'expectations': 304, 'sight': 774, 'walk': 954, 'distance': 248, 'highly': 407, 'recommend': 714, 'would': 994, 'return': 730, 'big': 91, 'also': 28, 'problem': 680, 'old': 607, 'find': 334, 'noisy': 595, 'street': 834, 'couple': 202, 'always': 30, 'smile': 794, 'relax': 719, 'want': 957, 'experience': 306, 'heritage': 403, 'live': 494, 'appreciate': 46, 'add': 13, 'facilities': 314, 'true': 916, 'name': 573, 'look': 505, 'real': 707, 'happy': 394, 'equip': 287, 'apartment': 43, 'city': 152, 'family': 319, 'run': 746, 'lake': 471, 'allow': 24, 'friend': 354, 'even': 291, 'totally': 897, 'see': 758, 'bug': 116, 'toilet': 891, 'quite': 697, 'know': 467, 'loud': 508, 'waruni': 959, 'beyond': 90, 'much': 571, 'cook': 194, 'accommodate': 6, 'definitely': 226, 'anyone': 38, 'end': 279, 'organise': 616, 'honest': 417, 'could': 200, 'fault': 324, 'outside': 620, 'helpfull': 402, 'minute': 553, 'drive': 260, 'minutes': 554, 'ok': 605, 'although': 29, 'bite': 95, 'hard': 395, 'saw': 753, 'cockroach': 163, 'bathroom': 80, 'maybe': 536, 'lucky': 514, 'transport': 907, 'sightsee': 775, 'restaurants': 729, 'atmosphere': 58, 'nights': 592, 'rice': 732, 'garden': 366, 'min': 548, 'tea': 866, 'excellent': 299, 'way': 964, 'hill': 409, 'balcony': 75, 'terrace': 871, 'area': 49, 'roof': 738, 'chill': 148, 'furniture': 364, 'open': 611, 'windows': 980, 'check': 143, 'accommodation': 7, 'centrally': 134, 'locate': 498, 'window': 979, 'say': 754, 'specially': 811, 'restaurant': 728, 'car': 127, 'park': 629, 'difficult': 239, 'access': 5, 'price': 676, 'value': 941, 'hospitality': 422, 'fresh': 351, 'small': 791, 'surround': 855, 'hotels': 427, 'nimal': 593, 'extremely': 311, 'warm': 958, 'hospitable': 421, 'property': 687, 'thing': 876, 'easily': 268, 'arrange': 52, 'first': 337, 'stop': 833, 'lanka': 472, 'villa': 948, 'vista': 951, 'others': 618, 'amaze': 31, 'note': 599, 'pay': 633, 'cash': 131, 'tell': 868, 'process': 682, 'bring': 111, 'alcohol': 23, 'mohamed': 558, 'brilliant': 110, 'guests': 386, 'spotless': 816, 'huge': 433, 'cheap': 142, 'tuk': 920, 'centre': 135, 'prefer': 671, 'able': 0, 'tour': 899, 'reliable': 720, 'reasonable': 710, 'affordable': 18, 'general': 368, 'picture': 648, 'nicer': 589, 'online': 610, 'lucian': 513, 'renovate': 723, 'house': 430, 'middle': 545, 'nature': 575, 'support': 849, 'local': 497, 'fantastic': 321, 'worth': 993, 'money': 561, 'different': 238, 'choices': 150, 'customers': 213, 'items': 451, 'eat': 270, 'navinda': 576, 'sweet': 856, 'every': 293, 'morning': 564, 'overlook': 623, 'conveniently': 193, 'wait': 952, 'something': 799, 'special': 810, 'vibe': 945, 'book': 98, 'deluxe': 229, 'mountain': 567, 'receive': 711, 'wall': 956, 'water': 963, 'floor': 341, 'back': 72, 'directly': 244, 'reason': 709, 'extra': 310, 'kind': 461, 'average': 65, 'level': 485, 'reach': 704, 'far': 322, 'superb': 848, 'new': 585, 'interior': 447, 'stylish': 841, 'directions': 243, 'board': 97, 'already': 27, 'miss': 556, 'google': 376, 'map': 530, 'expect': 303, 'greet': 381, 'juice': 454, 'cold': 165, 'towel': 901, 'whilst': 972, 'complete': 178, 'bag': 74, 'around': 51, 'style': 840, 'privacy': 677, 'need': 581, 'power': 670, 'bathrooms': 81, 'shower': 772, 'break': 106, 'short': 770, 'convenient': 192, 'kettle': 458, 'coffee': 164, 'village': 949, 'rupees': 747, 'ride': 733, 'town': 902, 'situate': 784, 'easy': 269, 'attractions': 63, 'central': 133, 'sacred': 748, 'relic': 721, 'time': 885, 'might': 546, 'require': 726, 'generous': 369, 'favourite': 325, 'issue': 450, 'flush': 342, 'fairly': 318, 'minor': 551, 'otherwise': 619, 'members': 542, 'together': 890, 'order': 615, 'meet': 540, 'late': 476, 'rain': 699, 'truly': 917, 'kindness': 463, 'will': 978, 'foods': 346, 'awesome': 69, 'touch': 898, 'felt': 329, 'taste': 862, 'star': 826, 'lead': 479, 'world': 990, 'fruit': 359, 'point': 662, 'early': 266, 'explore': 308, 'step': 831, 'spot': 815, 'position': 667, 'leave': 482, 'maintenance': 522, 'incredible': 439, 'kitchen': 465, 'everyone': 294, 'plenty': 658, 'drivers': 262, 'away': 68, 'sign': 777, 'actual': 11, 'serve': 763, 'less': 483, 'set': 765, 'menu': 544, 'advise': 17, 'journey': 453, 'spacious': 808, 'asitha': 55, 'bedroom': 85, 'inform': 442, 'goodwas': 375, 'meal': 537, 'along': 26, 'absolutely': 2, 'gorgeous': 377, 'management': 527, 'attentive': 61, 'com': 167, 'mention': 543, 'chef': 145, 'tasty': 863, 'meals': 538, 'skyloft': 787, 'doors': 253, 'improve': 437, 'fit': 339, 'use': 938, 'part': 630, 'bar': 76, 'extend': 309, 'week': 966, 'apart': 42, 'opposite': 612, 'main': 520, 'past': 632, 'maintain': 521, 'wooden': 987, 'swim': 857, 'clear': 160, 'someone': 798, 'dont': 251, 'sleep': 788, 'guy': 388, 'reception': 712, 'remember': 722, 'wifi': 977, 'hot': 425, 'stuff': 838, 'comment': 172, 'taxi': 865, 'manage': 526, 'work': 989, 'build': 117, 'detail': 235, 'stand': 823, 'plug': 659, 'travelers': 910, 'ready': 706, 'air': 20, 'aware': 67, 'avoid': 66, 'tuks': 921, 'whole': 974, 'sure': 853, 'gem': 367, 'con': 181, 'entire': 284, 'english': 280, 'kindly': 462, 'etc': 290, 'stairs': 822, 'pretty': 675, 'long': 503, 'bad': 73, 'incredibly': 440, 'slow': 790, 'photos': 646, 'seem': 759, 'base': 77, 'another': 35, 'narrow': 574, 'uncomfortable': 929, 'white': 973, 'travel': 909, 'number': 601, 'queen': 692, 'historical': 411, 'quieter': 696, 'lack': 469, 'cleanliness': 158, 'ac': 3, 'leak': 480, 'tv': 925, 'colonial': 166, 'luggage': 515, 'hours': 429, 'bus': 118, 'basic': 78, 'turn': 924, 'proper': 685, 'give': 371, 'upon': 934, 'charm': 140, 'decor': 224, 'airport': 22, 'sort': 803, 'fine': 335, 'fazly': 327, 'whenever': 971, 'useful': 939, 'filter': 333, 'drink': 259, 'magnificent': 519, 'efficient': 271, 'assist': 57, 'lot': 507, 'corridor': 197, 'awful': 70, 'front': 358, 'option': 613, 'wake': 953, 'curtain': 211, 'credit': 207, 'card': 128, 'din': 240, 'choose': 151, 'fridge': 353, 'holiday': 413, 'chat': 141, 'speak': 809, 'bright': 109, 'beautifully': 83, 'design': 231, 'cozy': 206, 'condition': 182, 'top': 895, 'ever': 292, 'come': 168, 'try': 919, 'honestly': 418, 'do': 249, 'history': 412, 'corner': 196, 'least': 481, 'start': 827, 'charge': 139, 'amount': 33, 'appear': 45, 'ants': 37, 'either': 273, 'member': 541, 'phone': 645, 'manager': 528, 'regard': 717, 'rude': 745, 'guesthouse': 385, 'limit': 490, 'lock': 502, 'interest': 446, 'inside': 444, 'course': 203, 'understand': 930, 'hike': 408, 'knuckle': 468, 'problems': 681, 'pressure': 674, 'fast': 323, 'change': 137, 'biggest': 92, 'complimentary': 180, 'toiletries': 892, 'person': 643, 'supportive': 850, 'sunrise': 845, 'else': 277, 'payment': 634, 'guest': 384, 'fill': 332, 'literally': 492, 'information': 443, 'brother': 112, 'brand': 104, 'luxury': 517, 'high': 405, 'class': 153, 'smell': 792, 'fully': 361, 'hesitate': 404, 'important': 436, 'nicely': 588, 'speed': 813, 'friends': 357, 'though': 879, 'budget': 114, 'center': 132, 'spend': 814, 'head': 396, 'sigiriya': 776, 'unfortunately': 931, 'rooftop': 739, 'lunch': 516, 'follow': 344, 'guide': 387, 'twice': 926, 'elsewhere': 278, 'possible': 668, 'via': 944, 'soft': 796, 'pillow': 649, 'wi': 975, 'fi': 331, 'poor': 665, 'worst': 992, 'mean': 539, 'word': 988, 'call': 124, 'talk': 861, 'quality': 691, 'wash': 960, 'drain': 258, 'busy': 121, 'moneywas': 562, 'laundry': 478, 'hustle': 434, 'bustle': 120, 'tuktuks': 923, 'however': 432, 'buffet': 115, 'compare': 176, 'probably': 679, 'tip': 887, 'without': 985, 'accomodation': 8, 'sun': 844, 'deck': 223, 'calm': 125, 'pick': 647, 'free': 350, 'full': 360, 'dinners': 242, 'low': 512, 'cost': 198, 'decent': 221, 'size': 785, 'face': 313, 'simple': 778, 'description': 230, 'years': 998, 'update': 932, 'cover': 205, 'fix': 340, 'forget': 349, 'customer': 212, 'must': 572, 'review': 731, 'cosy': 199, 'mr': 570, 'variety': 942, 'wish': 983, 'sometimes': 800, 'connection': 187, 'three': 880, 'chair': 136, 'table': 859, 'shop': 769, 'confortable': 184, 'send': 762, 'mountains': 568, 'internet': 448, 'overall': 622, 'lady': 470, 'usd': 937, 'hand': 391, 'rs': 744, 'rate': 702, 'bill': 93, 'explain': 307, 'properly': 686, 'treat': 912, 'dog': 250, 'fish': 338, 'curry': 210, 'egg': 272, 'bottle': 101, 'hour': 428, 'nearby': 579, 'buddha': 113, 'especially': 289, 'entrance': 285, 'range': 700, 'driver': 261, 'till': 884, 'pm': 661, 'expensive': 305, 'fazli': 326, 'type': 928, 'soap': 795, 'locations': 500, 'beer': 86, 'cool': 195, 'advice': 16, 'transportation': 908, 'lift': 487, 'throughout': 881, 'highlight': 406, 'never': 584, 'anywhere': 41, 'fabulous': 312, 'infinity': 441, 'believe': 87, 'forest': 348, 'glass': 372, 'homestay': 416, 'wife': 976, 'options': 614, 'may': 535, 'almost': 25, 'ticket': 882, 'negative': 582, 'plan': 652, 'annoy': 34, 'didnt': 236, 'sell': 761, 'polite': 663, 'bath': 79, 'sit': 782, 'cake': 123, 'none': 597, 'later': 477, 'pot': 669, 'slightly': 789, 'ones': 609, 'despite': 233, 'due': 265, 'comfort': 169, 'normal': 598, 'route': 743, 'construction': 189, 'hope': 419, 'soon': 802, 'decide': 222, 'future': 365, 'carry': 130, 'life': 486, 'man': 525, 'pleasure': 656, 'channel': 138, 'contact': 190, 'therefore': 874, 'anyway': 40, 'river': 735, 'tree': 913, 'clearly': 161, 'stain': 821, 'arrival': 53, 'deal': 220, 'prepare': 672, 'facility': 315, 'receptionist': 713, 'please': 655, 'longer': 504, 'watch': 962, 'monkey': 563, 'upstairs': 935, 'across': 9, 'transfer': 906, 'quick': 694, 'attitude': 62, 'plentiful': 657, 'toast': 889, 'daily': 214, 'milk': 547, 'hoppers': 420, 'roti': 742, 'suggest': 842, 'happen': 393, 'date': 217, 'bird': 94, 'professional': 683, 'side': 773, 'within': 984, 'foot': 347, 'breathtaking': 108, 'fact': 316, 'perfectly': 641, 'mosquito': 565, 'downtown': 257, 'cup': 209, 'attention': 60, 'housekeep': 431, 'pleasant': 654, 'hair': 389, 'machine': 518, 'continental': 191, 'placewas': 651, 'jam': 452, 'bother': 100, 'thin': 875, 'trouble': 915, 'escape': 288, 'desk': 232, 'grand': 378, 'areas': 50, 'tire': 888, 'app': 44, 'environment': 286, 'rather': 703, 'amenities': 32, 'fair': 317, 'perhaps': 642, 'tidy': 883, 'hostel': 424, 'toilets': 893, 'okay': 606, 'pass': 631, 'surprise': 854, 'net': 583, 'suite': 843, 'spa': 806, 'selection': 760, 'buy': 122, 'additional': 14, 'let': 484, 'windy': 981, 'steep': 830, 'struggle': 837, 'disappoint': 246, 'mark': 531, 'furnish': 363, 'wrong': 996, 'yet': 999, 'pack': 626, 'read': 705, 'activities': 10, 'question': 693, 'mohammed': 559, 'lkr': 495, 'obviously': 603, 'funny': 362, 'present': 673, 'exactly': 297, 'rest': 727, 'peace': 635, 'exceptional': 301, 'spotlessly': 817, 'mount': 566, 'capsule': 126, 'hang': 392, 'enjoyable': 282, 'cleanest': 157, 'classic': 154, 'satisfy': 751, 'mislead': 555, 'decorate': 225, 'suppose': 851, 'common': 173, 'historic': 410, 'everywhere': 296, 'wear': 965, 'box': 103, 'nd': 577, 'guess': 383, 'neat': 580, 'heart': 398, 'dorm': 254, 'team': 867, 'roads': 737, 'eliya': 275, 'mins': 552, 'worry': 991, 'major': 523, 'business': 119, 'ideal': 435, 'vehicle': 943, 'lose': 506, 'baby': 71, 'green': 380, 'sound': 804, 'proof': 684, 'safe': 750, 'upgrade': 933, 'answer': 36, 'nuwara': 602, 'bread': 105, 'nicest': 590, 'country': 201, 'list': 491, 'standards': 825, 'half': 390, 'plus': 660, 'kid': 460, 'finish': 336, 'solo': 797, 'female': 330, 'match': 533, 'boutique': 102, 'per': 638, 'connect': 186, 'homely': 415, 'standard': 824, 'portion': 666, 'cleaner': 156, 'several': 766, 'smelly': 793, 'fly': 343, 'share': 767, 'put': 690, 'jungle': 455, 'chicken': 146, 'dry': 264, 'somewhere': 801, 'vijith': 947, 'ago': 19, 'mind': 549, 'rat': 701, 'traditional': 903, 'architecture': 48, 'tourist': 900, 'outstanding': 621, 'accept': 4, 'elevator': 274, 'temperature': 869, 'except': 300, 'king': 464, 'terrible': 872, 'lobby': 496, 'wow': 995, 'lounge': 509, 'wine': 982, 'communicate': 174, 'heat': 399, 'paint': 627, 'destination': 234, 'peradeniya': 639, 'botanical': 99, 'die': 237, 'advance': 15, 'strong': 836, 'washroom': 961, 'exceptionally': 302, 'attach': 59, 'streets': 835, 'save': 752, 'total': 896, 'approach': 47, 'system': 858, 'pancakes': 628, 'friendliness': 355, 'sura': 852, 'staffwas': 820, 'soundproof': 805, 'tiny': 886, 'checkout': 144, 'freshly': 352, 'personal': 644, 'completely': 179, 'cleanwas': 159, 'plastic': 653, 'renovation': 724, 'confuse': 185, 'wet': 970, 'skydeck': 786, 'grind': 382, 'move': 569, 'trust': 918, 'roomwas': 741, 'absolute': 1, 'sad': 749, 'delight': 228, 'reich': 718, 'security': 757, 'simply': 779, 'dambulla': 215, 'aircon': 21, 'km': 466, 'tax': 864, 'year': 997, 'walkable': 955, 'refresh': 716, 'iron': 449, 'non': 596, 'dormitory': 255, 'seat': 755, 'dislike': 247, 'mattress': 534, 'children': 147, 'conditioner': 183, 'crowd': 208, 'massive': 532, 'earplugs': 267, 'courteous': 204}\n"
     ]
    }
   ],
   "source": [
    "print(Tfidf_vect.vocabulary_)"
   ]
  },
  {
   "cell_type": "code",
   "execution_count": 41,
   "id": "c1d09e62",
   "metadata": {
    "scrolled": true
   },
   "outputs": [
    {
     "name": "stdout",
     "output_type": "stream",
     "text": [
      "  (0, 950)\t0.35175239832749655\n",
      "  (0, 946)\t0.17592868202903283\n",
      "  (0, 860)\t0.2995371745427294\n",
      "  (0, 819)\t0.17324568641969623\n",
      "  (0, 756)\t0.4436736218262173\n",
      "  (0, 600)\t0.2674045101466702\n",
      "  (0, 510)\t0.32689478720683646\n",
      "  (0, 374)\t0.18025209102363693\n",
      "  (0, 295)\t0.25629897303676497\n",
      "  (0, 129)\t0.3777176078533485\n",
      "  (0, 107)\t0.17639774506591072\n",
      "  (0, 88)\t0.28000780348990933\n",
      "  (1, 829)\t0.20764021311913775\n",
      "  (1, 764)\t0.29533316777978447\n",
      "  (1, 695)\t0.3386442604580246\n",
      "  (1, 650)\t0.21964233597188584\n",
      "  (1, 640)\t0.2899132880121171\n",
      "  (1, 636)\t0.40998708968339903\n",
      "  (1, 608)\t0.27322921144046053\n",
      "  (1, 591)\t0.2902223487888407\n",
      "  (1, 499)\t0.18933138941591252\n",
      "  (1, 379)\t0.19687967568758832\n",
      "  (1, 241)\t0.3066264713948594\n",
      "  (1, 227)\t0.308154487436231\n",
      "  (1, 107)\t0.17925363654481657\n",
      "  :\t:\n",
      "  (3379, 90)\t0.39290375797643246\n",
      "  (3379, 84)\t0.23185775876522252\n",
      "  (3380, 979)\t0.2389056317226345\n",
      "  (3380, 957)\t0.19958587007059622\n",
      "  (3380, 954)\t0.1516264062667064\n",
      "  (3380, 946)\t0.19805598598720525\n",
      "  (3380, 920)\t0.34486892411277587\n",
      "  (3380, 902)\t0.17785110223581752\n",
      "  (3380, 895)\t0.20609672100275492\n",
      "  (3380, 885)\t0.15761279219710664\n",
      "  (3380, 847)\t0.17937757059737278\n",
      "  (3380, 834)\t0.23261898700696215\n",
      "  (3380, 728)\t0.17589270231888063\n",
      "  (3380, 708)\t0.1370157580397007\n",
      "  (3380, 699)\t0.29062087548196364\n",
      "  (3380, 587)\t0.11193765352390994\n",
      "  (3380, 493)\t0.17243446205638793\n",
      "  (3380, 379)\t0.21811084644063433\n",
      "  (3380, 322)\t0.18400487245065383\n",
      "  (3380, 162)\t0.16377365172161207\n",
      "  (3380, 85)\t0.25923451965568195\n",
      "  (3380, 80)\t0.1517668123944051\n",
      "  (3380, 79)\t0.25923451965568195\n",
      "  (3380, 31)\t0.14104810623010627\n",
      "  (3380, 8)\t0.2732786263245647\n"
     ]
    }
   ],
   "source": [
    "print(Train_X_Tfidf)"
   ]
  },
  {
   "cell_type": "markdown",
   "id": "3c597283",
   "metadata": {},
   "source": [
    "## Naive Bayes Classification"
   ]
  },
  {
   "cell_type": "code",
   "execution_count": 42,
   "id": "790b2186",
   "metadata": {},
   "outputs": [],
   "source": [
    "from sklearn.metrics import confusion_matrix"
   ]
  },
  {
   "cell_type": "code",
   "execution_count": 43,
   "id": "36cfc737",
   "metadata": {
    "scrolled": true
   },
   "outputs": [
    {
     "name": "stdout",
     "output_type": "stream",
     "text": [
      "NB Accuracy Score :  76.71394799054374\n",
      "              precision    recall  f1-score   support\n",
      "\n",
      "           0       0.00      0.00      0.00         0\n",
      "           1       0.56      0.67      0.61       205\n",
      "           2       0.94      0.80      0.86       641\n",
      "\n",
      "    accuracy                           0.77       846\n",
      "   macro avg       0.50      0.49      0.49       846\n",
      "weighted avg       0.85      0.77      0.80       846\n",
      "\n"
     ]
    },
    {
     "name": "stderr",
     "output_type": "stream",
     "text": [
      "C:\\ProgramData\\Anaconda3\\lib\\site-packages\\sklearn\\metrics\\_classification.py:1245: UndefinedMetricWarning: Recall and F-score are ill-defined and being set to 0.0 in labels with no true samples. Use `zero_division` parameter to control this behavior.\n",
      "  _warn_prf(average, modifier, msg_start, len(result))\n",
      "C:\\ProgramData\\Anaconda3\\lib\\site-packages\\sklearn\\metrics\\_classification.py:1245: UndefinedMetricWarning: Recall and F-score are ill-defined and being set to 0.0 in labels with no true samples. Use `zero_division` parameter to control this behavior.\n",
      "  _warn_prf(average, modifier, msg_start, len(result))\n",
      "C:\\ProgramData\\Anaconda3\\lib\\site-packages\\sklearn\\metrics\\_classification.py:1245: UndefinedMetricWarning: Recall and F-score are ill-defined and being set to 0.0 in labels with no true samples. Use `zero_division` parameter to control this behavior.\n",
      "  _warn_prf(average, modifier, msg_start, len(result))\n"
     ]
    }
   ],
   "source": [
    "NB = naive_bayes.MultinomialNB()\n",
    "NB.fit(Train_X_Tfidf,y_train)\n",
    "predictions_NB = NB.predict(Test_X_Tfidf)\n",
    "print(\"NB Accuracy Score : \",accuracy_score(predictions_NB, y_test)*100)\n",
    "print(classification_report(predictions_NB,y_test))"
   ]
  },
  {
   "cell_type": "code",
   "execution_count": 44,
   "id": "9f4b65bf",
   "metadata": {
    "scrolled": true
   },
   "outputs": [
    {
     "name": "stdout",
     "output_type": "stream",
     "text": [
      "[[  0   0   0]\n",
      " [ 37 137  31]\n",
      " [ 21 108 512]]\n"
     ]
    },
    {
     "data": {
      "text/plain": [
       "Text(24.0, 0.5, 'Actual')"
      ]
     },
     "execution_count": 44,
     "metadata": {},
     "output_type": "execute_result"
    },
    {
     "data": {
      "image/png": "[encoded data removed]",
      "text/plain": [
       "<Figure size 360x288 with 2 Axes>"
      ]
     },
     "metadata": {
      "needs_background": "light"
     },
     "output_type": "display_data"
    }
   ],
   "source": [
    "cm=confusion_matrix(predictions_NB, y_test)\n",
    "print(cm)\n",
    "%matplotlib inline\n",
    "import matplotlib.pyplot as plt\n",
    "import seaborn as sn\n",
    "plt.figure(figsize=(5,4))\n",
    "sn.heatmap(cm/np.sum(cm), annot=True, fmt='.2%')\n",
    "plt.xlabel('predicted')\n",
    "plt.ylabel('Actual')"
   ]
  },
  {
   "cell_type": "markdown",
   "id": "21dbadcb",
   "metadata": {},
   "source": [
    "## Support Vector Machine Classification"
   ]
  },
  {
   "cell_type": "code",
   "execution_count": 45,
   "id": "0ac22f75",
   "metadata": {
    "scrolled": true
   },
   "outputs": [
    {
     "name": "stdout",
     "output_type": "stream",
     "text": [
      "SVM Accuracy Score :  78.1323877068558\n",
      "              precision    recall  f1-score   support\n",
      "\n",
      "           0       0.00      0.00      0.00         0\n",
      "           1       0.66      0.67      0.66       240\n",
      "           2       0.92      0.83      0.87       606\n",
      "\n",
      "    accuracy                           0.78       846\n",
      "   macro avg       0.53      0.50      0.51       846\n",
      "weighted avg       0.85      0.78      0.81       846\n",
      "\n"
     ]
    },
    {
     "name": "stderr",
     "output_type": "stream",
     "text": [
      "C:\\ProgramData\\Anaconda3\\lib\\site-packages\\sklearn\\metrics\\_classification.py:1245: UndefinedMetricWarning: Recall and F-score are ill-defined and being set to 0.0 in labels with no true samples. Use `zero_division` parameter to control this behavior.\n",
      "  _warn_prf(average, modifier, msg_start, len(result))\n",
      "C:\\ProgramData\\Anaconda3\\lib\\site-packages\\sklearn\\metrics\\_classification.py:1245: UndefinedMetricWarning: Recall and F-score are ill-defined and being set to 0.0 in labels with no true samples. Use `zero_division` parameter to control this behavior.\n",
      "  _warn_prf(average, modifier, msg_start, len(result))\n",
      "C:\\ProgramData\\Anaconda3\\lib\\site-packages\\sklearn\\metrics\\_classification.py:1245: UndefinedMetricWarning: Recall and F-score are ill-defined and being set to 0.0 in labels with no true samples. Use `zero_division` parameter to control this behavior.\n",
      "  _warn_prf(average, modifier, msg_start, len(result))\n"
     ]
    }
   ],
   "source": [
    "SVM = svm.SVC()\n",
    "SVM.fit(Train_X_Tfidf,y_train)\n",
    "# predict the labels on validation dataset\n",
    "predictions_SVM = SVM.predict(Test_X_Tfidf)\n",
    "# Use accuracy_score function to get the accuracy\n",
    "print(\"SVM Accuracy Score : \",accuracy_score(predictions_SVM, y_test)*100)\n",
    "print(classification_report(predictions_SVM,y_test))"
   ]
  },
  {
   "cell_type": "code",
   "execution_count": 46,
   "id": "3345673f",
   "metadata": {
    "scrolled": true
   },
   "outputs": [
    {
     "name": "stdout",
     "output_type": "stream",
     "text": [
      "[[  0   0   0]\n",
      " [ 36 161  43]\n",
      " [ 22  84 500]]\n"
     ]
    },
    {
     "data": {
      "text/plain": [
       "Text(24.0, 0.5, 'Actual')"
      ]
     },
     "execution_count": 46,
     "metadata": {},
     "output_type": "execute_result"
    },
    {
     "data": {
      "image/png": "[encoded data removed]",
      "text/plain": [
       "<Figure size 360x288 with 2 Axes>"
      ]
     },
     "metadata": {
      "needs_background": "light"
     },
     "output_type": "display_data"
    }
   ],
   "source": [
    "cm=confusion_matrix(predictions_SVM, y_test)\n",
    "print(cm)\n",
    "%matplotlib inline\n",
    "import matplotlib.pyplot as plt\n",
    "import seaborn as sn\n",
    "plt.figure(figsize=(5,4))\n",
    "sn.heatmap(cm/np.sum(cm), annot=True, fmt='.2%')\n",
    "plt.xlabel('predicted')\n",
    "plt.ylabel('Actual')"
   ]
  },
  {
   "cell_type": "markdown",
   "id": "be4bf651",
   "metadata": {},
   "source": [
    "## Logistic Regression"
   ]
  },
  {
   "cell_type": "code",
   "execution_count": 47,
   "id": "d549de37",
   "metadata": {},
   "outputs": [
    {
     "name": "stdout",
     "output_type": "stream",
     "text": [
      "LG Accuracy Score :  78.25059101654847\n",
      "              precision    recall  f1-score   support\n",
      "\n",
      "           0       0.03      0.40      0.06         5\n",
      "           1       0.65      0.68      0.67       236\n",
      "           2       0.92      0.83      0.87       605\n",
      "\n",
      "    accuracy                           0.78       846\n",
      "   macro avg       0.54      0.63      0.53       846\n",
      "weighted avg       0.84      0.78      0.81       846\n",
      "\n"
     ]
    }
   ],
   "source": [
    "from sklearn.linear_model import LogisticRegression\n",
    "LG=LogisticRegression(multi_class='multinomial')\n",
    "LG.fit(Train_X_Tfidf,y_train)\n",
    "predictions_LG=LG.predict(Test_X_Tfidf)\n",
    "print(\"LG Accuracy Score : \",accuracy_score(predictions_LG, y_test)*100)\n",
    "print(classification_report(predictions_LG,y_test))"
   ]
  },
  {
   "cell_type": "code",
   "execution_count": 48,
   "id": "a1f5de58",
   "metadata": {
    "scrolled": true
   },
   "outputs": [
    {
     "name": "stdout",
     "output_type": "stream",
     "text": [
      "[[  2   1   2]\n",
      " [ 35 160  41]\n",
      " [ 21  84 500]]\n"
     ]
    },
    {
     "data": {
      "text/plain": [
       "Text(24.0, 0.5, 'Actual')"
      ]
     },
     "execution_count": 48,
     "metadata": {},
     "output_type": "execute_result"
    },
    {
     "data": {
      "image/png": "[encoded data removed]",
      "text/plain": [
       "<Figure size 360x288 with 2 Axes>"
      ]
     },
     "metadata": {
      "needs_background": "light"
     },
     "output_type": "display_data"
    }
   ],
   "source": [
    "cm=confusion_matrix(predictions_LG, y_test)\n",
    "print(cm)\n",
    "%matplotlib inline\n",
    "import matplotlib.pyplot as plt\n",
    "import seaborn as sn\n",
    "plt.figure(figsize=(5,4))\n",
    "sn.heatmap(cm/np.sum(cm), annot=True, fmt='.2%')\n",
    "plt.xlabel('predicted')\n",
    "plt.ylabel('Actual')"
   ]
  },
  {
   "cell_type": "markdown",
   "id": "d1f4724d",
   "metadata": {},
   "source": [
    "## Random Forest Classification"
   ]
  },
  {
   "cell_type": "code",
   "execution_count": 49,
   "id": "2e260528",
   "metadata": {
    "scrolled": false
   },
   "outputs": [
    {
     "name": "stdout",
     "output_type": "stream",
     "text": [
      "RF Accuracy Score :  77.42316784869976\n",
      "              precision    recall  f1-score   support\n",
      "\n",
      "           0       0.02      1.00      0.03         1\n",
      "           1       0.59      0.69      0.63       209\n",
      "           2       0.94      0.80      0.87       636\n",
      "\n",
      "    accuracy                           0.77       846\n",
      "   macro avg       0.51      0.83      0.51       846\n",
      "weighted avg       0.85      0.77      0.81       846\n",
      "\n"
     ]
    }
   ],
   "source": [
    "from sklearn.ensemble import RandomForestClassifier\n",
    "RF=RandomForestClassifier()\n",
    "RF.fit(Train_X_Tfidf,y_train)\n",
    "predictions_RF=RF.predict(Test_X_Tfidf)\n",
    "print(\"RF Accuracy Score : \",accuracy_score(predictions_RF, y_test)*100)\n",
    "print(classification_report(predictions_RF,y_test))"
   ]
  },
  {
   "cell_type": "code",
   "execution_count": 50,
   "id": "3290d501",
   "metadata": {
    "scrolled": true
   },
   "outputs": [
    {
     "name": "stdout",
     "output_type": "stream",
     "text": [
      "[[  1   0   0]\n",
      " [ 32 144  33]\n",
      " [ 25 101 510]]\n"
     ]
    },
    {
     "data": {
      "text/plain": [
       "Text(24.0, 0.5, 'Actual')"
      ]
     },
     "execution_count": 50,
     "metadata": {},
     "output_type": "execute_result"
    },
    {
     "data": {
      "image/png": "[encoded data removed]",
      "text/plain": [
       "<Figure size 360x288 with 2 Axes>"
      ]
     },
     "metadata": {
      "needs_background": "light"
     },
     "output_type": "display_data"
    }
   ],
   "source": [
    "cm=confusion_matrix(predictions_RF, y_test)\n",
    "print(cm)\n",
    "%matplotlib inline\n",
    "import matplotlib.pyplot as plt\n",
    "import seaborn as sn\n",
    "plt.figure(figsize=(5,4))\n",
    "sn.heatmap(cm/np.sum(cm), annot=True, fmt='.2%')\n",
    "plt.xlabel('predicted')\n",
    "plt.ylabel('Actual')"
   ]
  },
  {
   "cell_type": "markdown",
   "id": "4114aaf6",
   "metadata": {},
   "source": [
    "## Cross Validation Score "
   ]
  },
  {
   "cell_type": "code",
   "execution_count": 51,
   "id": "0a7454af",
   "metadata": {},
   "outputs": [],
   "source": [
    "Encoder = LabelEncoder()\n",
    "Label = Encoder.fit_transform(df_new['Label'])\n",
    "Tfidf_vect = TfidfVectorizer(max_features=1000)\n",
    "Tfidf_vect.fit(df_new['CleanReview'])\n",
    "X_Tfidf = Tfidf_vect.transform(df_new['CleanReview'])"
   ]
  },
  {
   "cell_type": "code",
   "execution_count": 52,
   "id": "f1c5b584",
   "metadata": {},
   "outputs": [],
   "source": [
    "from sklearn.model_selection import cross_val_score"
   ]
  },
  {
   "cell_type": "code",
   "execution_count": 53,
   "id": "0c1f5cf3",
   "metadata": {},
   "outputs": [
    {
     "name": "stdout",
     "output_type": "stream",
     "text": [
      "cross_val_scores of Naive Bayes: \n",
      " [0.73286052 0.77541371 0.7443787  0.70650888 0.6816568 ]\n",
      "NB cross val mean:\n",
      " 0.7281637220753424\n",
      "NB cross val std:\n",
      " 0.0320916581128681\n"
     ]
    }
   ],
   "source": [
    "NBcross=cross_val_score(naive_bayes.MultinomialNB(),X_Tfidf, Label)\n",
    "print(\"cross_val_scores of Naive Bayes: \\n\",NBcross)\n",
    "print(\"NB cross val mean:\\n\",NBcross.mean())\n",
    "print(\"NB cross val std:\\n\",NBcross.std())\n"
   ]
  },
  {
   "cell_type": "code",
   "execution_count": 54,
   "id": "15c0e772",
   "metadata": {
    "scrolled": false
   },
   "outputs": [
    {
     "name": "stdout",
     "output_type": "stream",
     "text": [
      "cross_val_scores of SVM: \n",
      " [0.69385343 0.74822695 0.74674556 0.72662722 0.69230769]\n",
      "SVM cross val mean:\n",
      " 0.7215521703246743\n",
      "SVM cross val std:\n",
      " 0.024472297911410586\n"
     ]
    }
   ],
   "source": [
    "SVCcross=cross_val_score(svm.SVC(), X_Tfidf, Label)\n",
    "print(\"cross_val_scores of SVM: \\n\",SVCcross)\n",
    "print(\"SVM cross val mean:\\n\",SVCcross.mean())\n",
    "print(\"SVM cross val std:\\n\",SVCcross.std())"
   ]
  },
  {
   "cell_type": "code",
   "execution_count": 55,
   "id": "5845a4f2",
   "metadata": {},
   "outputs": [
    {
     "name": "stdout",
     "output_type": "stream",
     "text": [
      "cross_val_scores of LG: \n",
      " [0.69030733 0.73049645 0.74201183 0.72189349 0.69585799]\n",
      "LG cross val mean:\n",
      " 0.7161134192230756\n",
      "LG cross val std:\n",
      " 0.019936126115812015\n"
     ]
    }
   ],
   "source": [
    "LGcross=cross_val_score(LogisticRegression(), X_Tfidf, Label)\n",
    "print(\"cross_val_scores of LG: \\n\",LGcross)\n",
    "print(\"LG cross val mean:\\n\",LGcross.mean())\n",
    "print(\"LG cross val std:\\n\",LGcross.std())"
   ]
  },
  {
   "cell_type": "code",
   "execution_count": 56,
   "id": "9e7af052",
   "metadata": {
    "scrolled": true
   },
   "outputs": [
    {
     "name": "stdout",
     "output_type": "stream",
     "text": [
      "cross_val_scores of RF: \n",
      " [0.69858156 0.75059102 0.71242604 0.69704142 0.6852071 ]\n",
      "RF cross val mean:\n",
      " 0.7087694266090339\n",
      "RF cross val std:\n",
      " 0.02262272369773409\n"
     ]
    }
   ],
   "source": [
    "RFcross=cross_val_score(RandomForestClassifier(), X_Tfidf, Label)\n",
    "print(\"cross_val_scores of RF: \\n\",RFcross)\n",
    "print(\"RF cross val mean:\\n\",RFcross.mean())\n",
    "print(\"RF cross val std:\\n\",RFcross.std())"
   ]
  },
  {
   "cell_type": "markdown",
   "id": "d6abcfad",
   "metadata": {},
   "source": [
    "# Over Sampling to Balance the Dataset "
   ]
  },
  {
   "cell_type": "code",
   "execution_count": 57,
   "id": "6c7d20bb",
   "metadata": {
    "scrolled": true
   },
   "outputs": [
    {
     "data": {
      "text/html": [
       "<div>\n",
       "<style scoped>\n",
       "    .dataframe tbody tr th:only-of-type {\n",
       "        vertical-align: middle;\n",
       "    }\n",
       "\n",
       "    .dataframe tbody tr th {\n",
       "        vertical-align: top;\n",
       "    }\n",
       "\n",
       "    .dataframe thead th {\n",
       "        text-align: right;\n",
       "    }\n",
       "</style>\n",
       "<table border=\"1\" class=\"dataframe\">\n",
       "  <thead>\n",
       "    <tr style=\"text-align: right;\">\n",
       "      <th></th>\n",
       "      <th>CleanReview</th>\n",
       "      <th>Label</th>\n",
       "    </tr>\n",
       "  </thead>\n",
       "  <tbody>\n",
       "    <tr>\n",
       "      <th>0</th>\n",
       "      <td>room beyond expect clean everything staff nice...</td>\n",
       "      <td>positive</td>\n",
       "    </tr>\n",
       "    <tr>\n",
       "      <th>1</th>\n",
       "      <td>stay extremely comfortable beautiful hotel sur...</td>\n",
       "      <td>positive</td>\n",
       "    </tr>\n",
       "    <tr>\n",
       "      <th>2</th>\n",
       "      <td>definitely worth price pay convenient place he...</td>\n",
       "      <td>neutral</td>\n",
       "    </tr>\n",
       "    <tr>\n",
       "      <th>3</th>\n",
       "      <td>meals location goodbetter change checkout time...</td>\n",
       "      <td>positive</td>\n",
       "    </tr>\n",
       "    <tr>\n",
       "      <th>4</th>\n",
       "      <td>worth money staff helpful friendly im happy se...</td>\n",
       "      <td>positive</td>\n",
       "    </tr>\n",
       "    <tr>\n",
       "      <th>...</th>\n",
       "      <td>...</td>\n",
       "      <td>...</td>\n",
       "    </tr>\n",
       "    <tr>\n",
       "      <th>4279</th>\n",
       "      <td>place like hotel owner family helpful hospital...</td>\n",
       "      <td>positive</td>\n",
       "    </tr>\n",
       "    <tr>\n",
       "      <th>4280</th>\n",
       "      <td>amaze stay happy welcome family promise wont d...</td>\n",
       "      <td>positive</td>\n",
       "    </tr>\n",
       "    <tr>\n",
       "      <th>4281</th>\n",
       "      <td>host amaze love rooftop sunsets literally fini...</td>\n",
       "      <td>positive</td>\n",
       "    </tr>\n",
       "    <tr>\n",
       "      <th>4282</th>\n",
       "      <td>owner family nice people humble honest persona...</td>\n",
       "      <td>positive</td>\n",
       "    </tr>\n",
       "    <tr>\n",
       "      <th>4283</th>\n",
       "      <td>hotel clean tidy new mr sultan friendly welcom...</td>\n",
       "      <td>positive</td>\n",
       "    </tr>\n",
       "  </tbody>\n",
       "</table>\n",
       "<p>4227 rows × 2 columns</p>\n",
       "</div>"
      ],
      "text/plain": [
       "                                            CleanReview     Label\n",
       "0     room beyond expect clean everything staff nice...  positive\n",
       "1     stay extremely comfortable beautiful hotel sur...  positive\n",
       "2     definitely worth price pay convenient place he...   neutral\n",
       "3     meals location goodbetter change checkout time...  positive\n",
       "4     worth money staff helpful friendly im happy se...  positive\n",
       "...                                                 ...       ...\n",
       "4279  place like hotel owner family helpful hospital...  positive\n",
       "4280  amaze stay happy welcome family promise wont d...  positive\n",
       "4281  host amaze love rooftop sunsets literally fini...  positive\n",
       "4282  owner family nice people humble honest persona...  positive\n",
       "4283  hotel clean tidy new mr sultan friendly welcom...  positive\n",
       "\n",
       "[4227 rows x 2 columns]"
      ]
     },
     "execution_count": 57,
     "metadata": {},
     "output_type": "execute_result"
    }
   ],
   "source": [
    "df_new1=df_new[['CleanReview','Label']]\n",
    "df_new1"
   ]
  },
  {
   "cell_type": "code",
   "execution_count": 58,
   "id": "40a168b6",
   "metadata": {},
   "outputs": [
    {
     "data": {
      "text/plain": [
       "(2698, 1239, 290)"
      ]
     },
     "execution_count": 58,
     "metadata": {},
     "output_type": "execute_result"
    }
   ],
   "source": [
    "class_count_0, class_count_1,class_count_2 = df_new1['Label'].value_counts()\n",
    "class_count_0, class_count_1,class_count_2"
   ]
  },
  {
   "cell_type": "code",
   "execution_count": 59,
   "id": "4eff638b",
   "metadata": {},
   "outputs": [
    {
     "data": {
      "text/plain": [
       "positive    2698\n",
       "neutral     1239\n",
       "negative     290\n",
       "Name: Label, dtype: int64"
      ]
     },
     "execution_count": 59,
     "metadata": {},
     "output_type": "execute_result"
    }
   ],
   "source": [
    "y=df_new1['Label'].value_counts()\n",
    "y"
   ]
  },
  {
   "cell_type": "code",
   "execution_count": 60,
   "id": "2b2d20af",
   "metadata": {},
   "outputs": [
    {
     "data": {
      "text/plain": [
       "(2698, 2)"
      ]
     },
     "execution_count": 60,
     "metadata": {},
     "output_type": "execute_result"
    }
   ],
   "source": [
    "class_0 = df_new1[df_new1['Label']=='positive']\n",
    "class_0.shape"
   ]
  },
  {
   "cell_type": "code",
   "execution_count": 61,
   "id": "39f86753",
   "metadata": {},
   "outputs": [
    {
     "data": {
      "text/plain": [
       "(1239, 2)"
      ]
     },
     "execution_count": 61,
     "metadata": {},
     "output_type": "execute_result"
    }
   ],
   "source": [
    "class_1 = df_new1[df_new1['Label']=='neutral']\n",
    "class_1.shape"
   ]
  },
  {
   "cell_type": "code",
   "execution_count": 62,
   "id": "9fe12a94",
   "metadata": {},
   "outputs": [
    {
     "data": {
      "text/plain": [
       "(290, 2)"
      ]
     },
     "execution_count": 62,
     "metadata": {},
     "output_type": "execute_result"
    }
   ],
   "source": [
    "class_2=df_new1[df_new1['Label']=='negative']\n",
    "class_2.shape\n"
   ]
  },
  {
   "cell_type": "code",
   "execution_count": 63,
   "id": "d8521438",
   "metadata": {},
   "outputs": [
    {
     "data": {
      "text/plain": [
       "(2698, 2)"
      ]
     },
     "execution_count": 63,
     "metadata": {},
     "output_type": "execute_result"
    }
   ],
   "source": [
    "class_2_over = class_2.sample(class_count_0, replace=True)\n",
    "class_2_over.shape"
   ]
  },
  {
   "cell_type": "code",
   "execution_count": 64,
   "id": "1bcd85e6",
   "metadata": {},
   "outputs": [
    {
     "data": {
      "text/html": [
       "<div>\n",
       "<style scoped>\n",
       "    .dataframe tbody tr th:only-of-type {\n",
       "        vertical-align: middle;\n",
       "    }\n",
       "\n",
       "    .dataframe tbody tr th {\n",
       "        vertical-align: top;\n",
       "    }\n",
       "\n",
       "    .dataframe thead th {\n",
       "        text-align: right;\n",
       "    }\n",
       "</style>\n",
       "<table border=\"1\" class=\"dataframe\">\n",
       "  <thead>\n",
       "    <tr style=\"text-align: right;\">\n",
       "      <th></th>\n",
       "      <th>CleanReview</th>\n",
       "      <th>Label</th>\n",
       "    </tr>\n",
       "  </thead>\n",
       "  <tbody>\n",
       "    <tr>\n",
       "      <th>3728</th>\n",
       "      <td>near train station charge indicate book give p...</td>\n",
       "      <td>negative</td>\n",
       "    </tr>\n",
       "    <tr>\n",
       "      <th>369</th>\n",
       "      <td>nothingthe room infest baby cockroaches steep ...</td>\n",
       "      <td>negative</td>\n",
       "    </tr>\n",
       "    <tr>\n",
       "      <th>1147</th>\n",
       "      <td>name heavy traffic bus near hotel main bus sta...</td>\n",
       "      <td>negative</td>\n",
       "    </tr>\n",
       "  </tbody>\n",
       "</table>\n",
       "</div>"
      ],
      "text/plain": [
       "                                            CleanReview     Label\n",
       "3728  near train station charge indicate book give p...  negative\n",
       "369   nothingthe room infest baby cockroaches steep ...  negative\n",
       "1147  name heavy traffic bus near hotel main bus sta...  negative"
      ]
     },
     "execution_count": 64,
     "metadata": {},
     "output_type": "execute_result"
    }
   ],
   "source": [
    "test_over = pd.concat([class_2_over, class_0,class_1], axis=0)\n",
    "test_over.head(3)"
   ]
  },
  {
   "cell_type": "code",
   "execution_count": 65,
   "id": "95470ab9",
   "metadata": {},
   "outputs": [
    {
     "data": {
      "text/plain": [
       "(2698, 2698, 1239)"
      ]
     },
     "execution_count": 65,
     "metadata": {},
     "output_type": "execute_result"
    }
   ],
   "source": [
    "class_count_0, class_count_1,class_count_2 = test_over['Label'].value_counts()\n",
    "class_count_0, class_count_1,class_count_2"
   ]
  },
  {
   "cell_type": "code",
   "execution_count": 66,
   "id": "94930940",
   "metadata": {},
   "outputs": [
    {
     "data": {
      "text/plain": [
       "negative    2698\n",
       "positive    2698\n",
       "neutral     1239\n",
       "Name: Label, dtype: int64"
      ]
     },
     "execution_count": 66,
     "metadata": {},
     "output_type": "execute_result"
    }
   ],
   "source": [
    "y1=test_over['Label'].value_counts()\n",
    "y1"
   ]
  },
  {
   "cell_type": "code",
   "execution_count": 67,
   "id": "4d9c3f77",
   "metadata": {},
   "outputs": [
    {
     "data": {
      "text/plain": [
       "(2698, 2)"
      ]
     },
     "execution_count": 67,
     "metadata": {},
     "output_type": "execute_result"
    }
   ],
   "source": [
    "class_0 = test_over[test_over['Label']=='positive']\n",
    "class_0.shape"
   ]
  },
  {
   "cell_type": "code",
   "execution_count": 68,
   "id": "c311173e",
   "metadata": {},
   "outputs": [
    {
     "data": {
      "text/plain": [
       "(1239, 2)"
      ]
     },
     "execution_count": 68,
     "metadata": {},
     "output_type": "execute_result"
    }
   ],
   "source": [
    "class_1 = test_over[test_over['Label']=='neutral']\n",
    "class_1.shape"
   ]
  },
  {
   "cell_type": "code",
   "execution_count": 69,
   "id": "accedfcd",
   "metadata": {},
   "outputs": [
    {
     "data": {
      "text/plain": [
       "(2698, 2)"
      ]
     },
     "execution_count": 69,
     "metadata": {},
     "output_type": "execute_result"
    }
   ],
   "source": [
    "class_2 = test_over[test_over['Label']=='negative']\n",
    "class_2.shape"
   ]
  },
  {
   "cell_type": "code",
   "execution_count": 70,
   "id": "85115ebe",
   "metadata": {},
   "outputs": [
    {
     "data": {
      "text/plain": [
       "(2698, 2)"
      ]
     },
     "execution_count": 70,
     "metadata": {},
     "output_type": "execute_result"
    }
   ],
   "source": [
    "class_1_over = class_1.sample(class_count_0, replace=True)\n",
    "class_1_over.shape"
   ]
  },
  {
   "cell_type": "code",
   "execution_count": 71,
   "id": "74609889",
   "metadata": {},
   "outputs": [
    {
     "data": {
      "text/html": [
       "<div>\n",
       "<style scoped>\n",
       "    .dataframe tbody tr th:only-of-type {\n",
       "        vertical-align: middle;\n",
       "    }\n",
       "\n",
       "    .dataframe tbody tr th {\n",
       "        vertical-align: top;\n",
       "    }\n",
       "\n",
       "    .dataframe thead th {\n",
       "        text-align: right;\n",
       "    }\n",
       "</style>\n",
       "<table border=\"1\" class=\"dataframe\">\n",
       "  <thead>\n",
       "    <tr style=\"text-align: right;\">\n",
       "      <th></th>\n",
       "      <th>CleanReview</th>\n",
       "      <th>Label</th>\n",
       "    </tr>\n",
       "  </thead>\n",
       "  <tbody>\n",
       "    <tr>\n",
       "      <th>628</th>\n",
       "      <td>service good location hotel abit outdated need...</td>\n",
       "      <td>neutral</td>\n",
       "    </tr>\n",
       "    <tr>\n",
       "      <th>399</th>\n",
       "      <td>locationstaff friendly well welcome room look ...</td>\n",
       "      <td>neutral</td>\n",
       "    </tr>\n",
       "    <tr>\n",
       "      <th>3704</th>\n",
       "      <td>good locationi ants room floor dirty</td>\n",
       "      <td>neutral</td>\n",
       "    </tr>\n",
       "    <tr>\n",
       "      <th>1331</th>\n",
       "      <td>roof topnot really clean staff friendly</td>\n",
       "      <td>neutral</td>\n",
       "    </tr>\n",
       "    <tr>\n",
       "      <th>637</th>\n",
       "      <td>firstly would like highlight like get experien...</td>\n",
       "      <td>neutral</td>\n",
       "    </tr>\n",
       "    <tr>\n",
       "      <th>...</th>\n",
       "      <td>...</td>\n",
       "      <td>...</td>\n",
       "    </tr>\n",
       "    <tr>\n",
       "      <th>1137</th>\n",
       "      <td>nice place box bed nice comfortable share bath...</td>\n",
       "      <td>negative</td>\n",
       "    </tr>\n",
       "    <tr>\n",
       "      <th>2550</th>\n",
       "      <td>view balcony lovely sunset viewsthere bar site</td>\n",
       "      <td>negative</td>\n",
       "    </tr>\n",
       "    <tr>\n",
       "      <th>163</th>\n",
       "      <td>night reception guy good night reception guy good</td>\n",
       "      <td>negative</td>\n",
       "    </tr>\n",
       "    <tr>\n",
       "      <th>319</th>\n",
       "      <td>location spacious room ac tv wificleanliness b...</td>\n",
       "      <td>negative</td>\n",
       "    </tr>\n",
       "    <tr>\n",
       "      <th>2025</th>\n",
       "      <td>book mountain view deluxe room give side weren...</td>\n",
       "      <td>negative</td>\n",
       "    </tr>\n",
       "  </tbody>\n",
       "</table>\n",
       "<p>8094 rows × 2 columns</p>\n",
       "</div>"
      ],
      "text/plain": [
       "                                            CleanReview     Label\n",
       "628   service good location hotel abit outdated need...   neutral\n",
       "399   locationstaff friendly well welcome room look ...   neutral\n",
       "3704               good locationi ants room floor dirty   neutral\n",
       "1331            roof topnot really clean staff friendly   neutral\n",
       "637   firstly would like highlight like get experien...   neutral\n",
       "...                                                 ...       ...\n",
       "1137  nice place box bed nice comfortable share bath...  negative\n",
       "2550     view balcony lovely sunset viewsthere bar site  negative\n",
       "163   night reception guy good night reception guy good  negative\n",
       "319   location spacious room ac tv wificleanliness b...  negative\n",
       "2025  book mountain view deluxe room give side weren...  negative\n",
       "\n",
       "[8094 rows x 2 columns]"
      ]
     },
     "execution_count": 71,
     "metadata": {},
     "output_type": "execute_result"
    }
   ],
   "source": [
    "test_over_over = pd.concat([class_1_over, class_0,class_2], axis=0)\n",
    "test_over_over"
   ]
  },
  {
   "cell_type": "code",
   "execution_count": 72,
   "id": "63b7d888",
   "metadata": {
    "scrolled": false
   },
   "outputs": [
    {
     "data": {
      "text/plain": [
       "negative    2698\n",
       "positive    2698\n",
       "neutral     2698\n",
       "Name: Label, dtype: int64"
      ]
     },
     "execution_count": 72,
     "metadata": {},
     "output_type": "execute_result"
    },
    {
     "data": {
      "image/png": "[encoded data removed]",
      "text/plain": [
       "<Figure size 432x288 with 1 Axes>"
      ]
     },
     "metadata": {
      "needs_background": "light"
     },
     "output_type": "display_data"
    }
   ],
   "source": [
    "test_over_over['Label'].value_counts().plot(kind='bar', title='count (target)')\n",
    "test_over_over['Label'].value_counts()"
   ]
  },
  {
   "cell_type": "markdown",
   "id": "1426ba88",
   "metadata": {},
   "source": [
    "# ML Algorithms"
   ]
  },
  {
   "cell_type": "markdown",
   "id": "4ef86f15",
   "metadata": {},
   "source": [
    "## Train and Test Split "
   ]
  },
  {
   "cell_type": "code",
   "execution_count": 73,
   "id": "2ad7aac5",
   "metadata": {
    "scrolled": true
   },
   "outputs": [
    {
     "name": "stdout",
     "output_type": "stream",
     "text": [
      "(8094, 2)\n"
     ]
    }
   ],
   "source": [
    "print(test_over_over.shape)\n",
    "X1=test_over_over['CleanReview']\n",
    "y1=test_over_over['Label']      "
   ]
  },
  {
   "cell_type": "code",
   "execution_count": 74,
   "id": "fe42f16f",
   "metadata": {
    "scrolled": true
   },
   "outputs": [
    {
     "name": "stdout",
     "output_type": "stream",
     "text": [
      "(6475,)\n",
      "(1619,)\n"
     ]
    }
   ],
   "source": [
    "from sklearn.model_selection import train_test_split\n",
    "X_train,X_test,y_train,y_test=train_test_split(X1,y1,test_size=0.2,random_state=10)\n",
    "print(y_train.shape)\n",
    "print(y_test.shape)"
   ]
  },
  {
   "cell_type": "code",
   "execution_count": 75,
   "id": "c1770e46",
   "metadata": {},
   "outputs": [],
   "source": [
    "np.random.seed(100)\n",
    "Encoder = LabelEncoder()\n",
    "y_train = Encoder.fit_transform(y_train)\n",
    "y_test = Encoder.fit_transform(y_test)\n",
    "Tfidf_vect = TfidfVectorizer(max_features=1000)\n",
    "Tfidf_vect.fit(X_train,X_test)\n",
    "Train_X_Tfidf = Tfidf_vect.transform(X_train)\n",
    "Test_X_Tfidf = Tfidf_vect.transform(X_test)"
   ]
  },
  {
   "cell_type": "markdown",
   "id": "ce38acf5",
   "metadata": {},
   "source": [
    "## Naive Bayes Classification"
   ]
  },
  {
   "cell_type": "code",
   "execution_count": 76,
   "id": "48ee07d5",
   "metadata": {},
   "outputs": [
    {
     "name": "stdout",
     "output_type": "stream",
     "text": [
      "NB Accuracy Score :  73.74922791846818\n",
      "              precision    recall  f1-score   support\n",
      "\n",
      "           0       0.79      0.75      0.77       546\n",
      "           1       0.61      0.73      0.67       478\n",
      "           2       0.82      0.74      0.78       595\n",
      "\n",
      "    accuracy                           0.74      1619\n",
      "   macro avg       0.74      0.74      0.74      1619\n",
      "weighted avg       0.75      0.74      0.74      1619\n",
      "\n"
     ]
    }
   ],
   "source": [
    "NB = naive_bayes.MultinomialNB()\n",
    "NB.fit(Train_X_Tfidf,y_train)\n",
    "# predict the labels on validation dataset\n",
    "predictions_NB = NB.predict(Test_X_Tfidf)\n",
    "# Use accuracy_score function to get the accuracy\n",
    "print(\"NB Accuracy Score : \",accuracy_score(predictions_NB, y_test)*100)\n",
    "print(classification_report(predictions_NB,y_test))"
   ]
  },
  {
   "cell_type": "markdown",
   "id": "2c9c89e2",
   "metadata": {},
   "source": [
    "## Support Vector Machine Classification"
   ]
  },
  {
   "cell_type": "code",
   "execution_count": 77,
   "id": "028ce1e8",
   "metadata": {
    "scrolled": true
   },
   "outputs": [
    {
     "name": "stdout",
     "output_type": "stream",
     "text": [
      "SVM Accuracy Score :  91.47621988882027\n",
      "              precision    recall  f1-score   support\n",
      "\n",
      "           0       1.00      0.97      0.98       536\n",
      "           1       0.90      0.88      0.89       574\n",
      "           2       0.86      0.90      0.88       509\n",
      "\n",
      "    accuracy                           0.91      1619\n",
      "   macro avg       0.92      0.92      0.92      1619\n",
      "weighted avg       0.92      0.91      0.92      1619\n",
      "\n"
     ]
    }
   ],
   "source": [
    "SVM = svm.SVC()\n",
    "SVM.fit(Train_X_Tfidf,y_train)\n",
    "# predict the labels on validation dataset\n",
    "predictions_SVM = SVM.predict(Test_X_Tfidf)\n",
    "# Use accuracy_score function to get the accuracy\n",
    "print(\"SVM Accuracy Score : \",accuracy_score(predictions_SVM, y_test)*100)\n",
    "print(classification_report(predictions_SVM,y_test))"
   ]
  },
  {
   "cell_type": "markdown",
   "id": "ba7edcce",
   "metadata": {},
   "source": [
    "## Logistic Regression "
   ]
  },
  {
   "cell_type": "code",
   "execution_count": 78,
   "id": "599edee8",
   "metadata": {},
   "outputs": [
    {
     "name": "stdout",
     "output_type": "stream",
     "text": [
      "LG Accuracy Score :  79.74058060531192\n",
      "              precision    recall  f1-score   support\n",
      "\n",
      "           0       0.93      0.80      0.86       604\n",
      "           1       0.69      0.79      0.74       491\n",
      "           2       0.79      0.80      0.79       524\n",
      "\n",
      "    accuracy                           0.80      1619\n",
      "   macro avg       0.80      0.80      0.80      1619\n",
      "weighted avg       0.81      0.80      0.80      1619\n",
      "\n"
     ]
    }
   ],
   "source": [
    "from sklearn.linear_model import LogisticRegression\n",
    "LG=LogisticRegression(multi_class='multinomial')\n",
    "LG.fit(Train_X_Tfidf,y_train)\n",
    "predictions_LG=LG.predict(Test_X_Tfidf)\n",
    "print(\"LG Accuracy Score : \",accuracy_score(predictions_LG, y_test)*100)\n",
    "print(classification_report(predictions_LG,y_test))"
   ]
  },
  {
   "cell_type": "markdown",
   "id": "b23f6784",
   "metadata": {},
   "source": [
    "## Random Forest Classification"
   ]
  },
  {
   "cell_type": "code",
   "execution_count": 79,
   "id": "4b6cf221",
   "metadata": {},
   "outputs": [
    {
     "name": "stdout",
     "output_type": "stream",
     "text": [
      "RF Accuracy Score :  92.21741815935763\n",
      "              precision    recall  f1-score   support\n",
      "\n",
      "           0       1.00      0.98      0.99       532\n",
      "           1       0.90      0.89      0.90       574\n",
      "           2       0.87      0.90      0.89       513\n",
      "\n",
      "    accuracy                           0.92      1619\n",
      "   macro avg       0.92      0.92      0.92      1619\n",
      "weighted avg       0.92      0.92      0.92      1619\n",
      "\n"
     ]
    }
   ],
   "source": [
    "from sklearn.ensemble import RandomForestClassifier\n",
    "RF=RandomForestClassifier()\n",
    "RF.fit(Train_X_Tfidf,y_train)\n",
    "predictions_RF=RF.predict(Test_X_Tfidf)\n",
    "print(\"RF Accuracy Score : \",accuracy_score(predictions_RF, y_test)*100)\n",
    "print(classification_report(predictions_RF,y_test))"
   ]
  },
  {
   "cell_type": "markdown",
   "id": "f71fb79f",
   "metadata": {},
   "source": [
    "## Cross Val Score for the  Balanced Dataset"
   ]
  },
  {
   "cell_type": "code",
   "execution_count": 80,
   "id": "f9dc69bb",
   "metadata": {},
   "outputs": [],
   "source": [
    "Encoder = LabelEncoder()\n",
    "Label = Encoder.fit_transform(test_over_over['Label'])\n",
    "Tfidf_vect = TfidfVectorizer(max_features=1000)\n",
    "Tfidf_vect.fit(test_over_over['CleanReview'])\n",
    "X_Tfidf = Tfidf_vect.transform(test_over_over['CleanReview'])"
   ]
  },
  {
   "cell_type": "code",
   "execution_count": 81,
   "id": "982c0488",
   "metadata": {
    "scrolled": true
   },
   "outputs": [
    {
     "name": "stdout",
     "output_type": "stream",
     "text": [
      "cross_val_scores of Naive Bayes: \n",
      " [0.66399012 0.76343422 0.76837554 0.78196418 0.78244747]\n",
      "NB cross val mean:\n",
      " 0.7520423035782591\n",
      "NB cross val std:\n",
      " 0.04465317496246789\n"
     ]
    }
   ],
   "source": [
    "NBcross=cross_val_score(naive_bayes.MultinomialNB(),X_Tfidf, Label)\n",
    "print(\"cross_val_scores of Naive Bayes: \\n\",NBcross)\n",
    "print(\"NB cross val mean:\\n\",NBcross.mean())\n",
    "print(\"NB cross val std:\\n\",NBcross.std())\n"
   ]
  },
  {
   "cell_type": "code",
   "execution_count": 82,
   "id": "eb75cd2e",
   "metadata": {},
   "outputs": [
    {
     "name": "stdout",
     "output_type": "stream",
     "text": [
      "cross_val_scores of SVM: \n",
      " [0.83014206 0.91229154 0.91352687 0.92835083 0.93448702]\n",
      "SVM cross val mean:\n",
      " 0.9037596648574446\n",
      "SVM cross val std:\n",
      " 0.03777999056775804\n"
     ]
    }
   ],
   "source": [
    "SVCcross=cross_val_score(svm.SVC(),X_Tfidf, Label)\n",
    "print(\"cross_val_scores of SVM: \\n\",SVCcross)\n",
    "print(\"SVM cross val mean:\\n\",SVCcross.mean())\n",
    "print(\"SVM cross val std:\\n\",SVCcross.std())"
   ]
  },
  {
   "cell_type": "code",
   "execution_count": 83,
   "id": "618f014c",
   "metadata": {},
   "outputs": [
    {
     "name": "stderr",
     "output_type": "stream",
     "text": [
      "C:\\ProgramData\\Anaconda3\\lib\\site-packages\\sklearn\\linear_model\\_logistic.py:763: ConvergenceWarning: lbfgs failed to converge (status=1):\n",
      "STOP: TOTAL NO. of ITERATIONS REACHED LIMIT.\n",
      "\n",
      "Increase the number of iterations (max_iter) or scale the data as shown in:\n",
      "    https://scikit-learn.org/stable/modules/preprocessing.html\n",
      "Please also refer to the documentation for alternative solver options:\n",
      "    https://scikit-learn.org/stable/modules/linear_model.html#logistic-regression\n",
      "  n_iter_i = _check_optimize_result(\n",
      "C:\\ProgramData\\Anaconda3\\lib\\site-packages\\sklearn\\linear_model\\_logistic.py:763: ConvergenceWarning: lbfgs failed to converge (status=1):\n",
      "STOP: TOTAL NO. of ITERATIONS REACHED LIMIT.\n",
      "\n",
      "Increase the number of iterations (max_iter) or scale the data as shown in:\n",
      "    https://scikit-learn.org/stable/modules/preprocessing.html\n",
      "Please also refer to the documentation for alternative solver options:\n",
      "    https://scikit-learn.org/stable/modules/linear_model.html#logistic-regression\n",
      "  n_iter_i = _check_optimize_result(\n"
     ]
    },
    {
     "name": "stdout",
     "output_type": "stream",
     "text": [
      "cross_val_scores of LG: \n",
      " [0.712168   0.8134651  0.82087708 0.82890673 0.82138443]\n",
      "LG cross val mean:\n",
      " 0.7993602698486988\n",
      "LG cross val std:\n",
      " 0.04386904955221006\n"
     ]
    },
    {
     "name": "stderr",
     "output_type": "stream",
     "text": [
      "C:\\ProgramData\\Anaconda3\\lib\\site-packages\\sklearn\\linear_model\\_logistic.py:763: ConvergenceWarning: lbfgs failed to converge (status=1):\n",
      "STOP: TOTAL NO. of ITERATIONS REACHED LIMIT.\n",
      "\n",
      "Increase the number of iterations (max_iter) or scale the data as shown in:\n",
      "    https://scikit-learn.org/stable/modules/preprocessing.html\n",
      "Please also refer to the documentation for alternative solver options:\n",
      "    https://scikit-learn.org/stable/modules/linear_model.html#logistic-regression\n",
      "  n_iter_i = _check_optimize_result(\n"
     ]
    }
   ],
   "source": [
    "LGcross=cross_val_score(LogisticRegression(), X_Tfidf, Label)\n",
    "print(\"cross_val_scores of LG: \\n\",LGcross)\n",
    "print(\"LG cross val mean:\\n\",LGcross.mean())\n",
    "print(\"LG cross val std:\\n\",LGcross.std())"
   ]
  },
  {
   "cell_type": "code",
   "execution_count": 84,
   "id": "3d70295f",
   "metadata": {},
   "outputs": [
    {
     "name": "stdout",
     "output_type": "stream",
     "text": [
      "cross_val_scores of RF: \n",
      " [0.84681902 0.9271155  0.91970352 0.93390982 0.94066749]\n",
      "RF cross val mean:\n",
      " 0.9136430719568536\n",
      "RF cross val std:\n",
      " 0.034131361364642766\n"
     ]
    }
   ],
   "source": [
    "RFcross=cross_val_score(RandomForestClassifier(),X_Tfidf, Label)\n",
    "print(\"cross_val_scores of RF: \\n\",RFcross)\n",
    "print(\"RF cross val mean:\\n\",RFcross.mean())\n",
    "print(\"RF cross val std:\\n\",RFcross.std())"
   ]
  },
  {
   "cell_type": "code",
   "execution_count": null,
   "id": "95b5fc23",
   "metadata": {},
   "outputs": [],
   "source": []
  },
  {
   "cell_type": "code",
   "execution_count": null,
   "id": "7d6dfd4a",
   "metadata": {},
   "outputs": [],
   "source": []
  }
 ],
 "metadata": {
  "kernelspec": {
   "display_name": "Python 3",
   "language": "python",
   "name": "python3"
  },
  "language_info": {
   "codemirror_mode": {
    "name": "ipython",
    "version": 3
   },
   "file_extension": ".py",
   "mimetype": "text/x-python",
   "name": "python",
   "nbconvert_exporter": "python",
   "pygments_lexer": "ipython3",
   "version": "3.8.8"
  }
 },
 "nbformat": 4,
 "nbformat_minor": 5
}
